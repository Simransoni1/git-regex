{
  "nbformat": 4,
  "nbformat_minor": 0,
  "metadata": {
    "colab": {
      "provenance": [],
      "authorship_tag": "ABX9TyN7wW6/ieDXqDEeVKo/deFF",
      "include_colab_link": true
    },
    "kernelspec": {
      "name": "python3",
      "display_name": "Python 3"
    },
    "language_info": {
      "name": "python"
    }
  },
  "cells": [
    {
      "cell_type": "markdown",
      "metadata": {
        "id": "view-in-github",
        "colab_type": "text"
      },
      "source": [
        "<a href=\"https://colab.research.google.com/github/Simransoni1/git-regex/blob/main/Untitled8.ipynb\" target=\"_parent\"><img src=\"https://colab.research.google.com/assets/colab-badge.svg\" alt=\"Open In Colab\"/></a>"
      ]
    },
    {
      "cell_type": "code",
      "execution_count": null,
      "metadata": {
        "colab": {
          "base_uri": "https://localhost:8080/"
        },
        "id": "25ELiFKunWef",
        "outputId": "06d90941-6ce2-48d8-d545-85c26ffbe1c0"
      },
      "outputs": [
        {
          "output_type": "stream",
          "name": "stdout",
          "text": [
            "1\n",
            "2\n",
            "4\n",
            "8\n"
          ]
        }
      ],
      "source": [
        "n=8\n",
        "for i in range (1,9):\n",
        "  if(n%i==0):\n",
        "\n",
        "     print(i)"
      ]
    },
    {
      "cell_type": "code",
      "source": [
        "n=16\n",
        "total=0\n",
        "for i in range (1,17):\n",
        "  if(n%i==0):\n",
        "    total+=1\n",
        "  if(total>=4):\n",
        "    print(\"yes\")\n",
        "  else:\n",
        "      print(\"no\")\n"
      ],
      "metadata": {
        "colab": {
          "base_uri": "https://localhost:8080/"
        },
        "id": "4miuHo6-oSu1",
        "outputId": "d1a487c6-964f-4eb9-cb54-cc148324d683"
      },
      "execution_count": null,
      "outputs": [
        {
          "output_type": "stream",
          "name": "stdout",
          "text": [
            "no\n",
            "no\n",
            "no\n",
            "no\n",
            "no\n",
            "no\n",
            "no\n",
            "yes\n",
            "yes\n",
            "yes\n",
            "yes\n",
            "yes\n",
            "yes\n",
            "yes\n",
            "yes\n",
            "yes\n"
          ]
        }
      ]
    },
    {
      "cell_type": "code",
      "source": [
        "num=16\n",
        "factor=0\n",
        "for i in range (1,17):\n",
        "    if(num%i==0):\n",
        "        factor+=1\n",
        "if(factor>=4):\n",
        "    print(\"yes\")\n",
        "else:\n",
        "    print(\"No\")"
      ],
      "metadata": {
        "colab": {
          "base_uri": "https://localhost:8080/"
        },
        "id": "CZ7jOWZGqPUE",
        "outputId": "f6b518b9-aba0-40a2-bcce-953641cbe70a"
      },
      "execution_count": null,
      "outputs": [
        {
          "output_type": "stream",
          "name": "stdout",
          "text": [
            "yes\n"
          ]
        }
      ]
    },
    {
      "cell_type": "code",
      "source": [
        "data=\"hello\"\n",
        "for i in range (0,len(data)):\n",
        "    print(data[i])"
      ],
      "metadata": {
        "colab": {
          "base_uri": "https://localhost:8080/"
        },
        "id": "C33ng-CnqYmY",
        "outputId": "078ceb6e-80c4-4d91-cc4a-7996f7bb9552"
      },
      "execution_count": null,
      "outputs": [
        {
          "output_type": "stream",
          "name": "stdout",
          "text": [
            "h\n",
            "e\n",
            "l\n",
            "l\n",
            "o\n"
          ]
        }
      ]
    },
    {
      "cell_type": "code",
      "source": [
        "data=\"hello\"\n",
        "count=0\n",
        "for i in range (0,len(data)):\n",
        "  if(data [i]==\"a\" or data [i]==\"e\"or  data [i]==\"i\" or data [i]==\"o\" or data [i]==\"u\"):\n",
        "    count+=1\n",
        "    print(count)"
      ],
      "metadata": {
        "colab": {
          "base_uri": "https://localhost:8080/"
        },
        "id": "N8WyytBFriM-",
        "outputId": "c4a18c5d-aaee-422a-bb5c-7c983b00cda9"
      },
      "execution_count": null,
      "outputs": [
        {
          "output_type": "stream",
          "name": "stdout",
          "text": [
            "1\n",
            "2\n"
          ]
        }
      ]
    },
    {
      "cell_type": "code",
      "source": [
        "num=7\n",
        "factor=0\n",
        "for i in range (1,8):\n",
        "    if(num%i==0):\n",
        "        factor+=1\n",
        "if(factor>=2):\n",
        "    print(\"no\")\n",
        "else:\n",
        "    print(\"yes\")"
      ],
      "metadata": {
        "colab": {
          "base_uri": "https://localhost:8080/"
        },
        "id": "U0EqmMmtsGoX",
        "outputId": "23e066d2-e8f4-4c89-b824-9ca6ee51b0db"
      },
      "execution_count": null,
      "outputs": [
        {
          "output_type": "stream",
          "name": "stdout",
          "text": [
            "no\n"
          ]
        }
      ]
    },
    {
      "cell_type": "code",
      "source": [
        "for i in range(1,6):\n",
        "   print(i)\n",
        "print('outside loop')"
      ],
      "metadata": {
        "colab": {
          "base_uri": "https://localhost:8080/"
        },
        "id": "3tfJcVWYuxwo",
        "outputId": "3a90637a-c25c-44bd-fa19-8991f7ffcbc8"
      },
      "execution_count": null,
      "outputs": [
        {
          "output_type": "stream",
          "name": "stdout",
          "text": [
            "1\n",
            "2\n",
            "3\n",
            "4\n",
            "5\n",
            "outside loop\n"
          ]
        }
      ]
    },
    {
      "cell_type": "code",
      "source": [
        "for i in range(1,6):\n",
        "   print(i)\n",
        "   break\n",
        "\n",
        "print('outside loop')"
      ],
      "metadata": {
        "colab": {
          "base_uri": "https://localhost:8080/"
        },
        "id": "1pGDN3_ou8KY",
        "outputId": "d54ff864-f4e9-48eb-aed6-85cabf534876"
      },
      "execution_count": null,
      "outputs": [
        {
          "output_type": "stream",
          "name": "stdout",
          "text": [
            "1\n",
            "outside loop\n"
          ]
        }
      ]
    },
    {
      "cell_type": "code",
      "source": [
        "for i in range(1,6):\n",
        "  if(i==4):\n",
        "\n",
        "    print(i)\n",
        "    break\n",
        "\n",
        "\n",
        "\n",
        "print('outside loop')"
      ],
      "metadata": {
        "colab": {
          "base_uri": "https://localhost:8080/"
        },
        "id": "0XD4kXkZvRKY",
        "outputId": "46e73496-e19a-48fd-d0e5-4d0f0b7b0276"
      },
      "execution_count": 62,
      "outputs": [
        {
          "output_type": "stream",
          "name": "stdout",
          "text": [
            "4\n",
            "outside loop\n"
          ]
        }
      ]
    },
    {
      "cell_type": "code",
      "source": [
        "num=9\n",
        "for i in range (2,num):\n",
        "  if(num%i==0):\n",
        "    break\n",
        "print(\"outside\")"
      ],
      "metadata": {
        "colab": {
          "base_uri": "https://localhost:8080/"
        },
        "id": "WjgNyZsXxGov",
        "outputId": "8a133ba8-1db7-4b0e-9a0a-c13f33aa738b"
      },
      "execution_count": null,
      "outputs": [
        {
          "output_type": "stream",
          "name": "stdout",
          "text": [
            "outside\n"
          ]
        }
      ]
    },
    {
      "cell_type": "code",
      "source": [
        "num=8\n",
        "a=0\n",
        "for i in range(2,num):\n",
        "  if(num%i==0):\n",
        "     a=1\n",
        "     break\n",
        "if(a==1):\n",
        "  print(\"not prime\")\n",
        "else:\n",
        "  print(\"prime\")"
      ],
      "metadata": {
        "colab": {
          "base_uri": "https://localhost:8080/"
        },
        "id": "9k3Y3ZFcy45u",
        "outputId": "95a2570b-7cc8-47bb-fcc4-393025887a91"
      },
      "execution_count": null,
      "outputs": [
        {
          "output_type": "stream",
          "name": "stdout",
          "text": [
            "not prime\n"
          ]
        }
      ]
    },
    {
      "cell_type": "code",
      "source": [
        "num=12\n",
        "a=0\n",
        "for i in range(1,13):\n",
        "  if(num%2==0 and num%3==0 and num%6==0):\n",
        "    a=1\n",
        "if(a==1):\n",
        " print(\"true\")\n",
        "else:\n",
        " print(\"false\")"
      ],
      "metadata": {
        "colab": {
          "base_uri": "https://localhost:8080/"
        },
        "id": "KaTlhbl1ztDL",
        "outputId": "57cbeac0-d045-4fcd-c06c-fecd23d49e89"
      },
      "execution_count": null,
      "outputs": [
        {
          "output_type": "stream",
          "name": "stdout",
          "text": [
            "true\n"
          ]
        }
      ]
    }
  ]
}