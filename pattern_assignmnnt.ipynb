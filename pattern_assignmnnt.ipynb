{
  "nbformat": 4,
  "nbformat_minor": 0,
  "metadata": {
    "colab": {
      "provenance": [],
      "authorship_tag": "ABX9TyPXInwpU+rRgalqBqkG1+9X",
      "include_colab_link": true
    },
    "kernelspec": {
      "name": "python3",
      "display_name": "Python 3"
    },
    "language_info": {
      "name": "python"
    }
  },
  "cells": [
    {
      "cell_type": "markdown",
      "metadata": {
        "id": "view-in-github",
        "colab_type": "text"
      },
      "source": [
        "<a href=\"https://colab.research.google.com/github/Simransoni1/git-regex/blob/main/pattern_assignmnnt.ipynb\" target=\"_parent\"><img src=\"https://colab.research.google.com/assets/colab-badge.svg\" alt=\"Open In Colab\"/></a>"
      ]
    },
    {
      "cell_type": "code",
      "source": [
        "#3\n",
        "x = 65\n",
        "\n",
        "for i in range(1, 5):\n",
        "    for j in range(i):\n",
        "        print(chr(x), end=\" \")\n",
        "    x += 1\n",
        "    print()"
      ],
      "metadata": {
        "colab": {
          "base_uri": "https://localhost:8080/"
        },
        "id": "PYfzmstUx24Z",
        "outputId": "8289e0e3-c35e-4802-c654-82a59dcaeec8"
      },
      "execution_count": 76,
      "outputs": [
        {
          "output_type": "stream",
          "name": "stdout",
          "text": [
            "A \n",
            "B B \n",
            "C C C \n",
            "D D D D \n"
          ]
        }
      ]
    },
    {
      "cell_type": "code",
      "source": [
        "#2\n",
        "\n",
        "\n",
        "for i in range(1, 6):\n",
        "  x=65\n",
        "  for j in range(1,i+1):\n",
        "    print(chr(x), end=\" \")\n",
        "    x += 1\n",
        "  print()"
      ],
      "metadata": {
        "colab": {
          "base_uri": "https://localhost:8080/"
        },
        "id": "9-X0RD8xyaPo",
        "outputId": "30b224a5-305a-4710-f45e-0f82d6bcaacb"
      },
      "execution_count": 82,
      "outputs": [
        {
          "output_type": "stream",
          "name": "stdout",
          "text": [
            "A \n",
            "A B \n",
            "A B C \n",
            "A B C D \n",
            "A B C D E \n"
          ]
        }
      ]
    },
    {
      "cell_type": "code",
      "source": [
        "#4\n",
        "for i in range(0, 5):\n",
        "    for j in range(69-i,70):\n",
        "        print(chr(j), end=\"\")\n",
        "    print()"
      ],
      "metadata": {
        "colab": {
          "base_uri": "https://localhost:8080/"
        },
        "id": "f5sxfxgYy1K7",
        "outputId": "6851a0ff-1df3-4a7a-8007-94b6b334537a"
      },
      "execution_count": 99,
      "outputs": [
        {
          "output_type": "stream",
          "name": "stdout",
          "text": [
            "E\n",
            "DE\n",
            "CDE\n",
            "BCDE\n",
            "ABCDE\n"
          ]
        }
      ]
    },
    {
      "cell_type": "code",
      "source": [
        "for i in range(1,5):\n",
        "  for j in range(i,4):\n",
        "    print(\" \",end=\" \")\n",
        "  for k in range(1,i+1):\n",
        "    print(\"*\",end=\" \")\n",
        "\n",
        "  print(\" \")"
      ],
      "metadata": {
        "colab": {
          "base_uri": "https://localhost:8080/"
        },
        "id": "va5KEDIw1ffj",
        "outputId": "9e57f6ae-c474-4a86-dcbe-dca2a5130f3f"
      },
      "execution_count": 141,
      "outputs": [
        {
          "output_type": "stream",
          "name": "stdout",
          "text": [
            "      *  \n",
            "    * *  \n",
            "  * * *  \n",
            "* * * *  \n"
          ]
        }
      ]
    },
    {
      "cell_type": "code",
      "source": [
        "#17\n",
        "for i in range(0,5):\n",
        "\n",
        "  for j in range(0,i+1):\n",
        "    print(j+1,end=\" \")\n",
        "\n",
        "\n",
        "  print(\" \")"
      ],
      "metadata": {
        "colab": {
          "base_uri": "https://localhost:8080/"
        },
        "id": "_5pVaf_y8E24",
        "outputId": "c04fb29b-3e89-4317-b2c0-9f6c2aaca177"
      },
      "execution_count": 176,
      "outputs": [
        {
          "output_type": "stream",
          "name": "stdout",
          "text": [
            "1  \n",
            "1 2  \n",
            "1 2 3  \n",
            "1 2 3 4  \n",
            "1 2 3 4 5  \n"
          ]
        }
      ]
    },
    {
      "cell_type": "code",
      "source": [
        "n=int(input(\"enter no\"))\n",
        "for i in range(0,n):\n",
        "  for j in range(n-i-1):\n",
        "    print(\" \",end=\" \")\n",
        "  for k in range(0,i+1): # Changed i+1` to i+1\n",
        "    print(j+1,end=\" \")\n",
        "\n",
        "\n",
        "  print(\" \")"
      ],
      "metadata": {
        "colab": {
          "base_uri": "https://localhost:8080/"
        },
        "id": "IyG0hcg3MSYg",
        "outputId": "597fed6b-e604-4e6d-a38d-7bc3a3588e28"
      },
      "execution_count": 199,
      "outputs": [
        {
          "output_type": "stream",
          "name": "stdout",
          "text": [
            "enter no5\n",
            "        4  \n",
            "      3 3  \n",
            "    2 2 2  \n",
            "  1 1 1 1  \n",
            "1 1 1 1 1  \n"
          ]
        }
      ]
    },
    {
      "cell_type": "code",
      "source": [],
      "metadata": {
        "id": "YcAyK1IkRfHd"
      },
      "execution_count": null,
      "outputs": []
    }
  ]
}