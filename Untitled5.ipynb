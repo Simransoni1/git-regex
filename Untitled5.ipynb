{
  "nbformat": 4,
  "nbformat_minor": 0,
  "metadata": {
    "colab": {
      "provenance": [],
      "authorship_tag": "ABX9TyNSlYQ+K7VaO/VPGsum2CFr",
      "include_colab_link": true
    },
    "kernelspec": {
      "name": "python3",
      "display_name": "Python 3"
    },
    "language_info": {
      "name": "python"
    }
  },
  "cells": [
    {
      "cell_type": "markdown",
      "metadata": {
        "id": "view-in-github",
        "colab_type": "text"
      },
      "source": [
        "<a href=\"https://colab.research.google.com/github/Simransoni1/git-regex/blob/main/Untitled5.ipynb\" target=\"_parent\"><img src=\"https://colab.research.google.com/assets/colab-badge.svg\" alt=\"Open In Colab\"/></a>"
      ]
    },
    {
      "cell_type": "code",
      "execution_count": null,
      "metadata": {
        "colab": {
          "base_uri": "https://localhost:8080/"
        },
        "id": "6VtG5Q76O7D7",
        "outputId": "21c04956-d0b6-43c7-80d2-786ddb554b42"
      },
      "outputs": [
        {
          "output_type": "stream",
          "name": "stdout",
          "text": [
            " not leap\n"
          ]
        }
      ],
      "source": [
        "year =1998\n",
        "\n",
        "if(year %4==0 ):\n",
        " print(\"leap year\")\n",
        "elif(year%400==0):\n",
        "  print(\"year is leap\")\n",
        "else:\n",
        " print(\" not leap\")\n"
      ]
    },
    {
      "cell_type": "code",
      "source": [
        "x= float(input(\"Enter a number: \"))\n",
        "\n",
        "if(x>=90):\n",
        "  print(\"geade a\")\n",
        "\n",
        "elif(x>=80):\n",
        "   print(\"geade b\")\n",
        "elif(x>=70):\n",
        "   print(\"geade c\")\n",
        "elif(x>=60):\n",
        "   print(\"geade d\")\n",
        "else:\n",
        "   print(\"fail\")"
      ],
      "metadata": {
        "id": "nFREQsrxPOfm",
        "colab": {
          "base_uri": "https://localhost:8080/"
        },
        "outputId": "6deb4869-995c-4c84-a77b-cd77f9bb7aed"
      },
      "execution_count": null,
      "outputs": [
        {
          "output_type": "stream",
          "name": "stdout",
          "text": [
            "Enter a number: 45\n",
            "fail\n"
          ]
        }
      ]
    },
    {
      "cell_type": "code",
      "source": [
        "a = 5\n",
        "b = 3\n",
        "mul = a * b\n",
        "\n",
        "print(\"The mul is:\", mul)"
      ],
      "metadata": {
        "colab": {
          "base_uri": "https://localhost:8080/"
        },
        "id": "1Hylknjzbsgu",
        "outputId": "dd096241-e5e8-4ef5-c32c-e347cdf67ec3"
      },
      "execution_count": null,
      "outputs": [
        {
          "output_type": "stream",
          "name": "stdout",
          "text": [
            "The mul is: 15\n"
          ]
        }
      ]
    },
    {
      "cell_type": "code",
      "source": [
        "\n",
        "num = float(input(\"Enter a number: \"))\n",
        "\n",
        "# Checking the number\n",
        "if num > 0:\n",
        "    print(\"The number is positive.\")\n",
        "elif num < 0:\n",
        "    print(\"The number is negative.\")\n",
        "else:\n",
        "    print(\"The number is zero.\")"
      ],
      "metadata": {
        "colab": {
          "base_uri": "https://localhost:8080/"
        },
        "id": "9sE5A_OZb_13",
        "outputId": "00ee0afa-0900-4cec-e885-d8c943de3d06"
      },
      "execution_count": null,
      "outputs": [
        {
          "output_type": "stream",
          "name": "stdout",
          "text": [
            "Enter a number: 23\n",
            "The number is positive.\n"
          ]
        }
      ]
    },
    {
      "cell_type": "code",
      "source": [
        "char=input(\"enter  char:\")\n",
        "if char in\n",
        " ('a','e','i','o','u'):\n",
        "  print(\"vowels\")\n",
        "else:\n",
        "  print(\"consonants\")"
      ],
      "metadata": {
        "colab": {
          "base_uri": "https://localhost:8080/"
        },
        "id": "Ne-vYUBEgrB7",
        "outputId": "60386ce0-bcaa-402a-c1bd-fee1438bf896"
      },
      "execution_count": null,
      "outputs": [
        {
          "output_type": "stream",
          "name": "stdout",
          "text": [
            "enter  char:a\n",
            "vowels\n"
          ]
        }
      ]
    },
    {
      "cell_type": "code",
      "source": [
        "correct_username = \"admin\"\n",
        "correct_password = \"1234\"\n",
        "username =input(\"enter username:\")\n",
        "password=input(\"enter password:\")\n",
        "if username == correct_username and password == correct_password:\n",
        "  print(\"login\")\n",
        "else:\n",
        "  print(\"failed\")"
      ],
      "metadata": {
        "id": "QCCLo2s9hU7d",
        "colab": {
          "base_uri": "https://localhost:8080/"
        },
        "outputId": "65ebbda6-77b1-45c9-903c-3e8a972d3a8c"
      },
      "execution_count": null,
      "outputs": [
        {
          "name": "stdout",
          "output_type": "stream",
          "text": [
            "enter username:tt\n"
          ]
        }
      ]
    },
    {
      "cell_type": "code",
      "source": [
        "age= float(input(\"Enter a age: \"))\n",
        "\n",
        "if( age<=1):\n",
        "  print(\"infant\")\n",
        "\n",
        "elif(age>=2 and age<=4):\n",
        "   print(\"todler\")\n",
        "elif(age>=5 and age<=12):\n",
        "   print(\"child\")\n",
        "elif(age>=13 and age<=19):\n",
        "   print(\"teenager\")\n",
        "elif(age>=20 and age<=59):\n",
        "   print(\"adult\")\n",
        "elif(age>=60 ):\n",
        "   print(\"senior citizen\")\n",
        "\n",
        "else:\n",
        "   print(\"invalid age\")"
      ],
      "metadata": {
        "colab": {
          "base_uri": "https://localhost:8080/"
        },
        "id": "_H4U0i8-vsMx",
        "outputId": "911cbe0e-b276-4430-943d-45be24d51c8d"
      },
      "execution_count": null,
      "outputs": [
        {
          "output_type": "stream",
          "name": "stdout",
          "text": [
            "Enter a age: 34\n",
            "adult\n"
          ]
        }
      ]
    },
    {
      "cell_type": "code",
      "source": [
        "a= float(input(\"Enter side a: \"))\n",
        "b = float(input(\"Enter side b: \"))\n",
        "c = float(input(\"Enter side c: \"))\n",
        "\n",
        "if(a+b>c and b+c>a and c+a>b):\n",
        "  print(\"valid traingle\")\n",
        "\n",
        "else:\n",
        "  print(\"invalid\")"
      ],
      "metadata": {
        "id": "kcomhD4LlmQZ",
        "colab": {
          "base_uri": "https://localhost:8080/"
        },
        "outputId": "c9fb8f7b-42f7-4b01-f168-76b25e22ad27"
      },
      "execution_count": null,
      "outputs": [
        {
          "output_type": "stream",
          "name": "stdout",
          "text": [
            "Enter side a: 3\n",
            "Enter side b: 4\n",
            "Enter side c: 3\n",
            "valid traingle\n"
          ]
        }
      ]
    }
  ]
}