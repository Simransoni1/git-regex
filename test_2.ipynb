{
  "nbformat": 4,
  "nbformat_minor": 0,
  "metadata": {
    "colab": {
      "provenance": [],
      "authorship_tag": "ABX9TyNVrQIlxuQQ6qDeVpUrc1p3",
      "include_colab_link": true
    },
    "kernelspec": {
      "name": "python3",
      "display_name": "Python 3"
    },
    "language_info": {
      "name": "python"
    }
  },
  "cells": [
    {
      "cell_type": "markdown",
      "metadata": {
        "id": "view-in-github",
        "colab_type": "text"
      },
      "source": [
        "<a href=\"https://colab.research.google.com/github/Simransoni1/git-regex/blob/main/test_2.ipynb\" target=\"_parent\"><img src=\"https://colab.research.google.com/assets/colab-badge.svg\" alt=\"Open In Colab\"/></a>"
      ]
    },
    {
      "cell_type": "code",
      "execution_count": null,
      "metadata": {
        "colab": {
          "base_uri": "https://localhost:8080/"
        },
        "id": "xcDeYhqaKOqj",
        "outputId": "b4bee772-42c9-439c-b728-e5e9fda9a0f1"
      },
      "outputs": [
        {
          "output_type": "stream",
          "name": "stdout",
          "text": [
            "# \n",
            "# # \n",
            "#   # \n",
            "#     # \n",
            "#   # \n",
            "# # \n",
            "# \n"
          ]
        }
      ],
      "source": [
        "for i in range (1,5):\n",
        "  for j in range (1,i+1):\n",
        "    if( j==i or j==1):\n",
        "      print(\"#\",end=\" \")\n",
        "    else:\n",
        "      print(\" \", end=\" \")\n",
        "  print(\"\")\n",
        "for i in range (i-1,0,-1):\n",
        "  for j in range (1,i+1):\n",
        "    if(j==1 or j==i):\n",
        "      print(\"#\",end=\" \")\n",
        "    else:\n",
        "      print(\" \", end=\" \")\n",
        "  print(\"\")\n"
      ]
    },
    {
      "cell_type": "code",
      "source": [
        "#Q2. Write a Python program to print the count of number of character matching in pair of string\n",
        "\n",
        "str1=\"regexian\"\n",
        "str2=\"tushar\"\n",
        "\n",
        "count=0\n",
        "sum=0\n",
        "for char in range (0,len(str1)):\n",
        "  if str1[char] in str2:\n",
        "    if(str1[char]==\"a\" and \"r\" or str2==\"a\" and \"r\"):\n",
        "\n",
        "     count+=1\n",
        "\n",
        "  print(count)"
      ],
      "metadata": {
        "colab": {
          "base_uri": "https://localhost:8080/"
        },
        "id": "y9cait1kP1yU",
        "outputId": "1a1d1529-7936-4d8d-9bef-4badf4ac2ed9"
      },
      "execution_count": null,
      "outputs": [
        {
          "output_type": "stream",
          "name": "stdout",
          "text": [
            "0\n",
            "0\n",
            "0\n",
            "0\n",
            "0\n",
            "0\n",
            "1\n",
            "1\n"
          ]
        }
      ]
    },
    {
      "cell_type": "code",
      "source": [
        "str1=\"regexian\"\n",
        "str2=\"tushar\"\n",
        "\n",
        "count=0\n",
        "for char in str1:  # Iterate through each character in str1\n",
        "  if char in str2:  # Check if the character is present in str2\n",
        "    count+=1       # If found, increment the count\n",
        "\n",
        "print(count)        # Pr"
      ],
      "metadata": {
        "colab": {
          "base_uri": "https://localhost:8080/"
        },
        "id": "zyN0PHnIW5qh",
        "outputId": "37ab4d8b-f7db-4dfc-e206-536cf9fb5c7b"
      },
      "execution_count": null,
      "outputs": [
        {
          "output_type": "stream",
          "name": "stdout",
          "text": [
            "2\n"
          ]
        }
      ]
    },
    {
      "cell_type": "code",
      "source": [
        "\n",
        "str1=\"bb1122@x\"\n",
        "str2=\"abcdef@123\"\n",
        "\n",
        "count=0\n",
        "for char in str1:\n",
        "  if char in str2 and char in (\"b\", \"1\", \"2\", \"@\"):\n",
        "\n",
        "      count+=1\n",
        "\n",
        "print(count)"
      ],
      "metadata": {
        "colab": {
          "base_uri": "https://localhost:8080/"
        },
        "id": "-fS0fdaweFF6",
        "outputId": "23250a93-6e38-46d9-a8d9-595df0afdf18"
      },
      "execution_count": null,
      "outputs": [
        {
          "output_type": "stream",
          "name": "stdout",
          "text": [
            "7\n"
          ]
        }
      ]
    },
    {
      "cell_type": "code",
      "source": [
        "str1=\"bb1122@x\"\n",
        "str2=\"abcdef@123\"\n",
        "\n",
        "count=0\n",
        "for char in str1:\n",
        "  if char in str2:\n",
        "\n",
        "    if char in (\"b\", \"1\", \"@\", \"2\"):\n",
        "      count+=1\n",
        "\n",
        "print(count)"
      ],
      "metadata": {
        "colab": {
          "base_uri": "https://localhost:8080/"
        },
        "id": "gNRROZtAgen1",
        "outputId": "fe5abf36-15b5-4fb0-ec19-e07c605e13b6"
      },
      "execution_count": null,
      "outputs": [
        {
          "output_type": "stream",
          "name": "stdout",
          "text": [
            "7\n"
          ]
        }
      ]
    },
    {
      "cell_type": "code",
      "source": [
        "num=int(input(\"enter the no \"))\n",
        "num=int(input(\"enter the duplicate no \"))\n"
      ],
      "metadata": {
        "id": "WtvArfEOjCtj"
      },
      "execution_count": null,
      "outputs": []
    },
    {
      "cell_type": "code",
      "source": [
        "for i in range (1):\n",
        "  for j in range(1,7):\n",
        "    print(\"*\",end=\" \")\n",
        "  if(i==0 or j==i-2):\n",
        "    print(\"*\",end=\" \")\n",
        "  else:\n",
        "    print(\" \",end=\"\")\n"
      ],
      "metadata": {
        "colab": {
          "base_uri": "https://localhost:8080/"
        },
        "id": "CnUnkn_7jp3r",
        "outputId": "035fb298-53a4-43cc-9804-17fa017dd0d6"
      },
      "execution_count": null,
      "outputs": [
        {
          "output_type": "stream",
          "name": "stdout",
          "text": [
            "* * * * * * * "
          ]
        }
      ]
    },
    {
      "cell_type": "code",
      "source": [
        "for i in range (1):\n",
        "  for j in range (1,7):\n",
        "    print(\"#\",end=\" \")\n",
        "    if( j==i or j==1):\n",
        "      print(\"#\",end=\" \")\n",
        "    else:\n",
        "      print(\" \", end=\" \")\n",
        "  print(\"\")\n",
        "for i in range (j-1,0,-2):\n",
        "  for j in range (1,j+1):\n",
        "    if(i==-2 or j==i):\n",
        "      print(\"#\",end=\" \")\n",
        "    else:\n",
        "      print(\" \", end=\" \")\n",
        "  print(\"\")\n"
      ],
      "metadata": {
        "colab": {
          "base_uri": "https://localhost:8080/"
        },
        "id": "rfwFCFYVo8Kk",
        "outputId": "4a560e07-b934-46a1-8cc4-45640b4da011"
      },
      "execution_count": null,
      "outputs": [
        {
          "output_type": "stream",
          "name": "stdout",
          "text": [
            "# # #   #   #   #   #   \n",
            "        #   \n",
            "    #       \n",
            "# # # # # # \n"
          ]
        }
      ]
    },
    {
      "cell_type": "code",
      "source": [
        "for num in range(2,12):\n",
        "  prime=0\n",
        "  for i in range(2,num):\n",
        "    if(num%i==0):\n",
        "      prime=1\n",
        "      break\n",
        "  if(prime==0):\n",
        "    print(num,end=\" \")"
      ],
      "metadata": {
        "colab": {
          "base_uri": "https://localhost:8080/"
        },
        "id": "KK_LWWdsssg6",
        "outputId": "06a61be3-5416-4884-cd23-22eecdf38801"
      },
      "execution_count": null,
      "outputs": [
        {
          "output_type": "stream",
          "name": "stdout",
          "text": [
            "2 3 5 7 11 "
          ]
        }
      ]
    },
    {
      "cell_type": "code",
      "source": [
        "for i in range(1,5):\n",
        "  for j in range(i,4):\n",
        "    print(\"-\",end=\"\")\n",
        "  for k in range(1,i+1):\n",
        "    if(k==1 or i==4 or i==k):\n",
        "      print(\"*\",end=\" \")\n",
        "    else:\n",
        "      print(\"^\",end=\"\")\n",
        "  print(\"\")"
      ],
      "metadata": {
        "colab": {
          "base_uri": "https://localhost:8080/"
        },
        "id": "f0WSwH7dK_vK",
        "outputId": "e70228bc-8bab-463a-f462-7e96c6870354"
      },
      "execution_count": 5,
      "outputs": [
        {
          "output_type": "stream",
          "name": "stdout",
          "text": [
            "---* \n",
            "--* * \n",
            "-* ^* \n",
            "* * * * \n"
          ]
        }
      ]
    },
    {
      "cell_type": "code",
      "source": [
        "for i in range(1,6):\n",
        "  for j in range(1,i):\n",
        "    print(\"-\",end=\"\")\n",
        "  for j in range(i,6):\n",
        "    if(j==5 or j==i or i==1):\n",
        "      print(\"*\",end=\"\")\n",
        "    else:\n",
        "      print(\" \",end=\"\")\n",
        "\n",
        "  print()\n"
      ],
      "metadata": {
        "colab": {
          "base_uri": "https://localhost:8080/"
        },
        "id": "Fay4MKm9N2Tm",
        "outputId": "8bb89b01-7da8-46ba-e470-a0efc33ba828"
      },
      "execution_count": 13,
      "outputs": [
        {
          "output_type": "stream",
          "name": "stdout",
          "text": [
            "*****\n",
            "-*  *\n",
            "--* *\n",
            "---**\n",
            "----*\n"
          ]
        }
      ]
    },
    {
      "cell_type": "code",
      "source": [
        "for i in range(1,6):\n",
        "  for j in range(97,102-i):\n",
        "    print(chr(j),end=\"\")\n",
        "\n",
        "  print(\" \")\n",
        ""
      ],
      "metadata": {
        "colab": {
          "base_uri": "https://localhost:8080/"
        },
        "id": "-lhC4uZTPGTL",
        "outputId": "39a4febe-37d4-4ece-a77a-23f7c807db61"
      },
      "execution_count": 51,
      "outputs": [
        {
          "output_type": "stream",
          "name": "stdout",
          "text": [
            "abcd \n",
            "abc \n",
            "ab \n",
            "a \n",
            " \n"
          ]
        }
      ]
    },
    {
      "cell_type": "code",
      "source": [],
      "metadata": {
        "id": "BOX82cmsXMXw"
      },
      "execution_count": null,
      "outputs": []
    }
  ]
}