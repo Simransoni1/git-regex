{
  "nbformat": 4,
  "nbformat_minor": 0,
  "metadata": {
    "colab": {
      "provenance": [],
      "authorship_tag": "ABX9TyMh2z0X1/d/6GUeNk2h8Y7W",
      "include_colab_link": true
    },
    "kernelspec": {
      "name": "python3",
      "display_name": "Python 3"
    },
    "language_info": {
      "name": "python"
    }
  },
  "cells": [
    {
      "cell_type": "markdown",
      "metadata": {
        "id": "view-in-github",
        "colab_type": "text"
      },
      "source": [
        "<a href=\"https://colab.research.google.com/github/Simransoni1/git-regex/blob/main/Untitled13.ipynb\" target=\"_parent\"><img src=\"https://colab.research.google.com/assets/colab-badge.svg\" alt=\"Open In Colab\"/></a>"
      ]
    },
    {
      "cell_type": "code",
      "execution_count": null,
      "metadata": {
        "colab": {
          "base_uri": "https://localhost:8080/"
        },
        "id": "pnNf2VnUxrH5",
        "outputId": "aba7a116-f342-4276-cd89-ef5181669b8f"
      },
      "outputs": [
        {
          "output_type": "stream",
          "name": "stdout",
          "text": [
            "5 10 | 7 8 | 9 6 | "
          ]
        }
      ],
      "source": [
        "x, y = 5, 10\n",
        "while x < 10 and y > 5:\n",
        "    print(x, y, end=\" | \")\n",
        "    x += 2\n",
        "    y -= 2"
      ]
    },
    {
      "cell_type": "code",
      "source": [
        "x, y = 2, 8\n",
        "while x < 10 and y > 0:\n",
        "    x += 3\n",
        "    y -= 2\n",
        "print(x, y)"
      ],
      "metadata": {
        "colab": {
          "base_uri": "https://localhost:8080/"
        },
        "id": "myNd7f_Yx09l",
        "outputId": "49874b95-b212-49e8-9701-b1595540b658"
      },
      "execution_count": null,
      "outputs": [
        {
          "output_type": "stream",
          "name": "stdout",
          "text": [
            "11 2\n"
          ]
        }
      ]
    },
    {
      "cell_type": "code",
      "source": [
        "x, y = 2, 8\n",
        "while x < 10 and y > 0:\n",
        "    x += 3\n",
        "    y -= 2\n",
        "print(x, y)"
      ],
      "metadata": {
        "colab": {
          "base_uri": "https://localhost:8080/"
        },
        "id": "Q--XQgYux56e",
        "outputId": "88f1a9a5-9f0e-4446-a84f-4e254ce8c88a"
      },
      "execution_count": null,
      "outputs": [
        {
          "output_type": "stream",
          "name": "stdout",
          "text": [
            "11 2\n"
          ]
        }
      ]
    },
    {
      "cell_type": "code",
      "source": [
        "i, j = 1, 5\n",
        "while i < 5 and j > 0:\n",
        "    print(i * j, end=\" \")\n",
        "    i += 1\n",
        "    j -= 2"
      ],
      "metadata": {
        "colab": {
          "base_uri": "https://localhost:8080/"
        },
        "id": "xz0FHvawyBj5",
        "outputId": "e526f35e-28f2-4887-c30a-4738e93d3a5c"
      },
      "execution_count": null,
      "outputs": [
        {
          "output_type": "stream",
          "name": "stdout",
          "text": [
            "5 6 3 "
          ]
        }
      ]
    },
    {
      "cell_type": "code",
      "source": [],
      "metadata": {
        "id": "oQpDiFxayK6X"
      },
      "execution_count": null,
      "outputs": []
    },
    {
      "cell_type": "code",
      "source": [
        "s = \"banana\"\n",
        "i = 0\n",
        "while i < len(s):\n",
        "    if s[i] == \"a\":\n",
        "        i += 1\n",
        "        continue\n",
        "    print(s[i], end=\" \")\n",
        "    i += 1"
      ],
      "metadata": {
        "colab": {
          "base_uri": "https://localhost:8080/"
        },
        "id": "-bofvoCcyKau",
        "outputId": "9a59eb69-bc1d-4c25-85d1-fa66f9aa9c0a"
      },
      "execution_count": null,
      "outputs": [
        {
          "output_type": "stream",
          "name": "stdout",
          "text": [
            "b n n "
          ]
        }
      ]
    },
    {
      "cell_type": "code",
      "source": [
        "a= 10\n",
        "b = 10\n",
        "while a is b:\n",
        "    print(a, end=\" \")\n",
        "    a += 1"
      ],
      "metadata": {
        "colab": {
          "base_uri": "https://localhost:8080/"
        },
        "id": "mhoLWYoDyOn6",
        "outputId": "a703c40d-ce5a-4814-e8bd-9f7059c4dabc"
      },
      "execution_count": null,
      "outputs": [
        {
          "output_type": "stream",
          "name": "stdout",
          "text": [
            "10 "
          ]
        }
      ]
    },
    {
      "cell_type": "code",
      "source": [
        "i = 0\n",
        "while i < 3:\n",
        "    print(i, end=\" \")\n",
        "    i = i + 1\n",
        "    if i == 2:\n",
        "        break\n",
        "else:\n",
        "    print(\"Loop ended\")\n",
        "\n"
      ],
      "metadata": {
        "colab": {
          "base_uri": "https://localhost:8080/"
        },
        "id": "Va7XkbxLyVMC",
        "outputId": "37d1bea0-f51a-4ed0-89fa-48467a7801dc"
      },
      "execution_count": null,
      "outputs": [
        {
          "output_type": "stream",
          "name": "stdout",
          "text": [
            "0 1 "
          ]
        }
      ]
    },
    {
      "cell_type": "code",
      "source": [
        "i = 0\n",
        "while i < 3:\n",
        "    print(i, end=\" \")\n",
        "    i = i + 1\n",
        "else:\n",
        "    print(\"else executed\")"
      ],
      "metadata": {
        "colab": {
          "base_uri": "https://localhost:8080/"
        },
        "id": "VSglYcBYydbE",
        "outputId": "207b0881-4721-4787-c103-633aa95dfc88"
      },
      "execution_count": null,
      "outputs": [
        {
          "output_type": "stream",
          "name": "stdout",
          "text": [
            "0 1 2 else executed\n"
          ]
        }
      ]
    },
    {
      "cell_type": "code",
      "source": [
        "word = \"whileloop\"\n",
        "i = 0\n",
        "while i < len(word):\n",
        "    if word[i] in \"aeiou\":\n",
        "        print(\"*\", end=\" \")\n",
        "    else:\n",
        "        print(word[i], end=\" \")\n",
        "    i += 1"
      ],
      "metadata": {
        "colab": {
          "base_uri": "https://localhost:8080/"
        },
        "id": "ll0vj4cwykzy",
        "outputId": "72c1a1b4-4078-4680-a4ec-5bc0d1ee88ff"
      },
      "execution_count": null,
      "outputs": [
        {
          "output_type": "stream",
          "name": "stdout",
          "text": [
            "w h * l * l * * p "
          ]
        }
      ]
    },
    {
      "cell_type": "code",
      "source": [
        "x = 5\n",
        "while x > 0:\n",
        "    x -= 1\n",
        "    if x == 2:\n",
        "        break\n",
        "    print(x, end=\" \")"
      ],
      "metadata": {
        "colab": {
          "base_uri": "https://localhost:8080/"
        },
        "id": "XBKIoRUzyv-b",
        "outputId": "bdcf7422-dac3-43b5-eda8-383bc0bec9ce"
      },
      "execution_count": null,
      "outputs": [
        {
          "output_type": "stream",
          "name": "stdout",
          "text": [
            "4 3 "
          ]
        }
      ]
    },
    {
      "cell_type": "code",
      "source": [
        "x = 10\n",
        "while x > 0:\n",
        "    x //= 3\n",
        "    print(x, end=\" \")"
      ],
      "metadata": {
        "colab": {
          "base_uri": "https://localhost:8080/"
        },
        "id": "A4DfH1fSy1_O",
        "outputId": "c7bc145b-4e36-45d2-f5f4-79b7fea758a8"
      },
      "execution_count": null,
      "outputs": [
        {
          "output_type": "stream",
          "name": "stdout",
          "text": [
            "3 1 0 "
          ]
        }
      ]
    },
    {
      "cell_type": "code",
      "source": [
        "x = 0\n",
        "while x < 5:\n",
        "    x += 1\n",
        "    if x == 3:\n",
        "        continue\n",
        "    print(x, end=\" \")"
      ],
      "metadata": {
        "colab": {
          "base_uri": "https://localhost:8080/"
        },
        "id": "EXR5_Ve4y4bA",
        "outputId": "240f4c02-6b21-417a-900f-187cfe851ffc"
      },
      "execution_count": null,
      "outputs": [
        {
          "output_type": "stream",
          "name": "stdout",
          "text": [
            "1 2 4 5 "
          ]
        }
      ]
    },
    {
      "cell_type": "code",
      "source": [
        "s = \"Python\"\n",
        "i = 0\n",
        "while i < len(s):\n",
        "    if s[i] in \"aeiouAEIOU\":\n",
        "        print(s[i], end=\" \")\n",
        "    i += 1"
      ],
      "metadata": {
        "colab": {
          "base_uri": "https://localhost:8080/"
        },
        "id": "r0rhkRTLzCOc",
        "outputId": "a8a4df3b-6325-4622-c7b1-2536d3c87c22"
      },
      "execution_count": null,
      "outputs": [
        {
          "output_type": "stream",
          "name": "stdout",
          "text": [
            "o "
          ]
        }
      ]
    },
    {
      "cell_type": "code",
      "source": [
        "i = 1\n",
        "while i < 20:\n",
        "    if i % 5 == 0:\n",
        "        i += 2\n",
        "    print(i, end=\" \")\n",
        "    i += 3"
      ],
      "metadata": {
        "colab": {
          "base_uri": "https://localhost:8080/"
        },
        "id": "2afl0zQ4zIDe",
        "outputId": "ec1e5789-75f3-4642-a822-40d70953d0dc"
      },
      "execution_count": null,
      "outputs": [
        {
          "output_type": "stream",
          "name": "stdout",
          "text": [
            "1 4 7 12 17 "
          ]
        }
      ]
    },
    {
      "cell_type": "code",
      "source": [
        "i = 1\n",
        "while i < 10:\n",
        "    if i % 2 == 0:\n",
        "        i += 3\n",
        "    print(i, end=\" \")\n",
        "    i += 1"
      ],
      "metadata": {
        "id": "skA0P24FzQJR",
        "outputId": "65ffd0ae-12a7-46bc-ecaf-8cb6f8d27869",
        "colab": {
          "base_uri": "https://localhost:8080/"
        }
      },
      "execution_count": null,
      "outputs": [
        {
          "output_type": "stream",
          "name": "stdout",
          "text": [
            "1 5 9 "
          ]
        }
      ]
    },
    {
      "cell_type": "code",
      "source": [
        "#project banking system\n",
        "class Bank_Account:\n",
        "  def __init__(self,accNo,name,balance):\n",
        "    self.accNo=accNo\n",
        "    self.name=name\n",
        "    self.balance=balance\n",
        "\n",
        "  def deposit(self,amount):\n",
        "    if amount<0:\n",
        "     print(\"invalid amount for deposit\")\n",
        "    else:\n",
        "      self.balance=self.balance+amount\n",
        "  def withdrawAmount(self,amount):\n",
        "    if amount> self.balance:\n",
        "      print(\"insufficient amount\")\n",
        "    else:\n",
        "      self.balance-=amount\n",
        "\n",
        "\n",
        "ba1=Bank_Account(10001,\"simran\",99)\n",
        "    self.balance=balance\n",
        "\n",
        "  def deposit(self,amount):\n",
        "    if amount<0:\n",
        "     print(\"invalid amount for deposit\")\n",
        "    else\n",
        "      self.balance=self.balance+amount\n",
        "\n",
        "  def withdrawAmount(self,amount):\n",
        "    if amount> self.balance:\n",
        "      print(\"insufficient amount\")\n",
        "    else:\n",
        "      self.balance-=amount\n",
        "\n",
        "\n",
        "ba1=Bank_Account(10001,\"simran\",99)\n",
        "\n"
      ],
      "metadata": {
        "colab": {
          "base_uri": "https://localhost:8080/",
          "height": 106
        },
        "id": "g0ARk2cJ4lV9",
        "outputId": "f0c0519c-6366-4a24-9088-a37eae101b31"
      },
      "execution_count": null,
      "outputs": [
        {
          "output_type": "error",
          "ename": "IndentationError",
          "evalue": "unindent does not match any outer indentation level (<tokenize>, line 23)",
          "traceback": [
            "\u001b[0;36m  File \u001b[0;32m\"<tokenize>\"\u001b[0;36m, line \u001b[0;32m23\u001b[0m\n\u001b[0;31m    def deposit(self,amount):\u001b[0m\n\u001b[0m    ^\u001b[0m\n\u001b[0;31mIndentationError\u001b[0m\u001b[0;31m:\u001b[0m unindent does not match any outer indentation level\n"
          ]
        }
      ]
    },
    {
      "cell_type": "code",
      "source": [
        "class saving_Account(banl)"
      ],
      "metadata": {
        "id": "xWVtp2PT7ZeB"
      },
      "execution_count": null,
      "outputs": []
    },
    {
      "cell_type": "code",
      "source": [
        "class Bank_Account:\n",
        "  def __init__(self,accNo,name,balance):\n",
        "    self.accNo=accNo\n",
        "    self.name=name\n",
        "    self.balance=balance\n",
        "\n",
        "  def deposit(self,amount):\n",
        "    if amount<0:\n",
        "     print(\"invalid amount for deposit\")\n",
        "    else:\n",
        "      self.balance=self.balance+amount\n",
        "  def withdrawAmount(self,amount):\n",
        "    if amount> self.balance:\n",
        "      print(\"insufficient amount\")\n",
        "    else:\n",
        "      self.balance-=amount\n",
        "\n",
        "# Create an instance of the Bank_Account class\n",
        "ba1 = Bank_Account(10001,\"simran\",99)\n",
        "\n",
        "# The duplicate code block below has been removed\n",
        "#     self.balance=balance\n",
        "\n",
        "#   def deposit(self,amount):\n",
        "#     if amount<0:\n",
        "#      print(\"invalid amount for deposit\")\n",
        "#     else\n",
        "#       self.balance=self.balance+amount\n",
        "\n",
        "#   def withdrawAmount(self,amount):\n",
        "#     if amount> self.balance:\n",
        "#       print(\"insufficient amount\")\n",
        "#     else:\n",
        "#       self.balance-=amount\n",
        "\n",
        "\n",
        "# ba1=Bank_Account(10001,\"simran\",99)\n",
        "\n",
        "\n",
        "# The incomplete class definition below is also removed\n",
        "# class saving_Account(banl)"
      ],
      "metadata": {
        "id": "CAZQ430fE_kF"
      },
      "execution_count": null,
      "outputs": []
    },
    {
      "cell_type": "code",
      "source": [
        "str=\"hey hello user hey\"\n",
        "s1=[]\n",
        "text=str.split(\" \")\n",
        "for x in text:\n",
        "  if x in text:\n",
        "    s2.append(x)\n",
        "    return s1\n",
        "\n"
      ],
      "metadata": {
        "id": "7dzweuHl_1e7",
        "colab": {
          "base_uri": "https://localhost:8080/",
          "height": 106
        },
        "outputId": "0675be05-68e6-4a49-967c-c6132fcb762f"
      },
      "execution_count": null,
      "outputs": [
        {
          "output_type": "error",
          "ename": "SyntaxError",
          "evalue": "'return' outside function (<ipython-input-1-1583300151>, line 7)",
          "traceback": [
            "\u001b[0;36m  File \u001b[0;32m\"<ipython-input-1-1583300151>\"\u001b[0;36m, line \u001b[0;32m7\u001b[0m\n\u001b[0;31m    return s1\u001b[0m\n\u001b[0m    ^\u001b[0m\n\u001b[0;31mSyntaxError\u001b[0m\u001b[0;31m:\u001b[0m 'return' outside function\n"
          ]
        }
      ]
    },
    {
      "cell_type": "code",
      "source": [
        "s = \"hi hello user hi\"\n",
        "s1 = s.split(\" \")\n",
        "s2 = \"\"\n",
        "for i in s1:\n",
        "\tif i not in s2:\n",
        "\t\ts2.join(i,\" \")\n",
        "print(s2)"
      ],
      "metadata": {
        "id": "imyIVBS1Bhbr"
      },
      "execution_count": null,
      "outputs": []
    },
    {
      "cell_type": "code",
      "source": [
        "class college:\n",
        "  def __init__(self, x):\n",
        "                 self.x=x"
      ],
      "metadata": {
        "id": "KsEVs4yqD-Pt"
      },
      "execution_count": null,
      "outputs": []
    },
    {
      "cell_type": "code",
      "source": [
        "def outerFunc():\n",
        "  def inner_function():\n",
        "    print(\"this is inner function\")\n",
        "  return inner_function()\n",
        "x=outerFunc()\n",
        "print(x)\n"
      ],
      "metadata": {
        "colab": {
          "base_uri": "https://localhost:8080/"
        },
        "id": "fo_4JSVBjzsl",
        "outputId": "beedb55b-ff5a-41a0-bfd1-c7c01d8a8825"
      },
      "execution_count": null,
      "outputs": [
        {
          "output_type": "stream",
          "name": "stdout",
          "text": [
            "this is inner function\n",
            "None\n"
          ]
        }
      ]
    },
    {
      "cell_type": "code",
      "source": [
        "def outerFunc(num):\n",
        "  def inner_function():\n",
        "    out= num().upper()\n",
        "    return(\"inside inner out=>\",out)\n",
        "  return inner_function\n",
        "\n",
        "@outerFunc\n",
        "def test():\n",
        "  return(\"hey regex software\")\n",
        "print(test())"
      ],
      "metadata": {
        "colab": {
          "base_uri": "https://localhost:8080/"
        },
        "id": "rrika5MeojT0",
        "outputId": "906d13c5-d382-4836-a799-84dddf987fd4"
      },
      "execution_count": null,
      "outputs": [
        {
          "output_type": "stream",
          "name": "stdout",
          "text": [
            "('inside inner out=>', 'HEY REGEX SOFTWARE')\n"
          ]
        }
      ]
    },
    {
      "cell_type": "code",
      "source": [
        "def func():\n",
        "  a=0\n",
        "  b=1\n",
        "  while(True):\n",
        "    yield a\n",
        "    a,b=b,a+b"
      ],
      "metadata": {
        "id": "gjaky975zDrz"
      },
      "execution_count": null,
      "outputs": []
    },
    {
      "cell_type": "code",
      "source": [
        "gen=func()\n",
        "for i in range(1,11):\n",
        "  print(next(gen))"
      ],
      "metadata": {
        "colab": {
          "base_uri": "https://localhost:8080/"
        },
        "id": "FZvTvQy_zUyi",
        "outputId": "6b67bf33-03cb-45c0-b283-110f264fafbe"
      },
      "execution_count": null,
      "outputs": [
        {
          "output_type": "stream",
          "name": "stdout",
          "text": [
            "0\n",
            "1\n",
            "1\n",
            "2\n",
            "3\n",
            "5\n",
            "8\n",
            "13\n",
            "21\n",
            "34\n"
          ]
        }
      ]
    },
    {
      "cell_type": "code",
      "source": [
        "s = \"heyhello\"\n",
        "d = {}\n",
        "\n",
        "for char in s:\n",
        "    d[char] = d.get(char, 0) + 1\n",
        "res = min(d, key=d.get)\n",
        "print(str(res))"
      ],
      "metadata": {
        "colab": {
          "base_uri": "https://localhost:8080/"
        },
        "id": "JyqEh0dVSYXQ",
        "outputId": "ad3a3ab5-5cf0-4e91-e8fd-5569b06d3d66"
      },
      "execution_count": null,
      "outputs": [
        {
          "output_type": "stream",
          "name": "stdout",
          "text": [
            "y\n"
          ]
        }
      ]
    },
    {
      "cell_type": "code",
      "source": [
        "s = \"heyhello\"\n",
        "res = min(s, key=lambda char:\n",
        "          s.count(char))\n",
        "print(str(res))"
      ],
      "metadata": {
        "colab": {
          "base_uri": "https://localhost:8080/"
        },
        "id": "0fmqXU4SSzkH",
        "outputId": "428c8017-141c-4dab-ca93-1ff5ba653596"
      },
      "execution_count": null,
      "outputs": [
        {
          "output_type": "stream",
          "name": "stdout",
          "text": [
            "y\n"
          ]
        }
      ]
    },
    {
      "cell_type": "code",
      "source": [
        "def char_frequency(input_str):\n",
        "    freq = {}\n",
        "    for char in input_str:\n",
        "        if char in freq:\n",
        "            freq[char] += 1\n",
        "        else:\n",
        "            freq[char] = 1\n",
        "    return freq\n",
        "    for char in frequency:\n",
        "    if frequency[char] == min_freq:\n"
      ],
      "metadata": {
        "colab": {
          "base_uri": "https://localhost:8080/",
          "height": 106
        },
        "id": "_wFXyYYrU8rO",
        "outputId": "d1aed947-30ed-464d-a252-f0f79b7f2078"
      },
      "execution_count": null,
      "outputs": [
        {
          "output_type": "error",
          "ename": "IndentationError",
          "evalue": "expected an indented block after 'for' statement on line 9 (ipython-input-20-3911341584.py, line 10)",
          "traceback": [
            "\u001b[0;36m  File \u001b[0;32m\"/tmp/ipython-input-20-3911341584.py\"\u001b[0;36m, line \u001b[0;32m10\u001b[0m\n\u001b[0;31m    if frequency[char] == min_freq:\u001b[0m\n\u001b[0m    ^\u001b[0m\n\u001b[0;31mIndentationError\u001b[0m\u001b[0;31m:\u001b[0m expected an indented block after 'for' statement on line 9\n"
          ]
        }
      ]
    },
    {
      "cell_type": "code",
      "source": [
        "\n",
        "str = \"heyhello\"\n",
        "result = char_frequency(str)\n",
        "print(result)"
      ],
      "metadata": {
        "colab": {
          "base_uri": "https://localhost:8080/"
        },
        "id": "_caU57XaTZmx",
        "outputId": "fc344db5-133f-479a-8e05-c115ff35c912"
      },
      "execution_count": null,
      "outputs": [
        {
          "output_type": "stream",
          "name": "stdout",
          "text": [
            "{'h': 2, 'e': 2, 'y': 1, 'l': 2, 'o': 1}\n"
          ]
        }
      ]
    },
    {
      "cell_type": "code",
      "source": [
        "string = \"heyhello\"\n",
        "frequency = {}\n",
        "\n",
        "\n",
        "for char in string:\n",
        "    if char in frequency:\n",
        "        frequency[char] += 1\n",
        "    else:\n",
        "        frequency[char] = 1\n",
        "\n",
        "\n",
        "min_freq = min(frequency.values())\n",
        "\n",
        "\n",
        "print(\"Character(s) with minimum frequency:\")\n",
        "for char in frequency:\n",
        "    if frequency[char] == min_freq:\n",
        "        print(f\"{char}: {frequency[char]}\")"
      ],
      "metadata": {
        "colab": {
          "base_uri": "https://localhost:8080/"
        },
        "id": "VaAIcPnHVs-L",
        "outputId": "526f892d-0b73-4392-fa83-5b839e27d167"
      },
      "execution_count": null,
      "outputs": [
        {
          "output_type": "stream",
          "name": "stdout",
          "text": [
            "Character(s) with minimum frequency:\n",
            "y: 1\n",
            "o: 1\n"
          ]
        }
      ]
    },
    {
      "cell_type": "code",
      "source": [
        "str = \"regex software edtech company\"\n",
        "substr  = \"company\"\n",
        "if substr in str:\n",
        "    print(\"True\")\n",
        "else:\n",
        "    print(\"False\")"
      ],
      "metadata": {
        "colab": {
          "base_uri": "https://localhost:8080/"
        },
        "id": "uiPaxHRNXYSA",
        "outputId": "5e8a80dc-162d-43ae-ecaf-7c6c2570bfd9"
      },
      "execution_count": null,
      "outputs": [
        {
          "output_type": "stream",
          "name": "stdout",
          "text": [
            "True\n"
          ]
        }
      ]
    },
    {
      "cell_type": "code",
      "source": [
        "str=\"regex software edtech company\"\n",
        "str1 =\"company\"\n",
        "a=0\n",
        "str=str.split(\" \")\n",
        "for i in str:\n",
        "    if str1==i :\n",
        "        a=1\n",
        "if(a==1):\n",
        "    print(\"true\")\n",
        "else:\n",
        "        print(\"false\")"
      ],
      "metadata": {
        "id": "PIMIk5-6Y7g0",
        "outputId": "78666ea2-d2b4-439f-df7e-f119d4f72d51",
        "colab": {
          "base_uri": "https://localhost:8080/"
        }
      },
      "execution_count": null,
      "outputs": [
        {
          "output_type": "stream",
          "name": "stdout",
          "text": [
            "true\n"
          ]
        }
      ]
    },
    {
      "cell_type": "code",
      "source": [
        "balance = 4000\n",
        "spent = 344\n",
        "remaining = balance-spent\n",
        "\n",
        "print(f\"I spent $ {spent} and  remaining $ {remaining} \")"
      ],
      "metadata": {
        "id": "-4kmXeHgrlzq",
        "outputId": "d6ce02ff-bc97-4473-b340-d81b2b5254ed",
        "colab": {
          "base_uri": "https://localhost:8080/"
        }
      },
      "execution_count": null,
      "outputs": [
        {
          "output_type": "stream",
          "name": "stdout",
          "text": [
            "I spent $ 344 and  remaining $ 3656 \n"
          ]
        }
      ]
    }
  ]
}