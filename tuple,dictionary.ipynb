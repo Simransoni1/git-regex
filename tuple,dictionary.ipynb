{
  "nbformat": 4,
  "nbformat_minor": 0,
  "metadata": {
    "colab": {
      "provenance": [],
      "authorship_tag": "ABX9TyOhRDZCWpMM1oLXWMEv9PHk",
      "include_colab_link": true
    },
    "kernelspec": {
      "name": "python3",
      "display_name": "Python 3"
    },
    "language_info": {
      "name": "python"
    }
  },
  "cells": [
    {
      "cell_type": "markdown",
      "metadata": {
        "id": "view-in-github",
        "colab_type": "text"
      },
      "source": [
        "<a href=\"https://colab.research.google.com/github/Simransoni1/git-regex/blob/main/tuple%2Cdictionary.ipynb\" target=\"_parent\"><img src=\"https://colab.research.google.com/assets/colab-badge.svg\" alt=\"Open In Colab\"/></a>"
      ]
    },
    {
      "cell_type": "code",
      "execution_count": null,
      "metadata": {
        "colab": {
          "base_uri": "https://localhost:8080/"
        },
        "id": "Qb9p3LfqLSc3",
        "outputId": "a9f16097-989f-48e8-a77c-5ab3615aae5c"
      },
      "outputs": [
        {
          "output_type": "execute_result",
          "data": {
            "text/plain": [
              "2"
            ]
          },
          "metadata": {},
          "execution_count": 3
        }
      ],
      "source": [
        "mytuple=(10,20,30,\"abc\",10)\n",
        "mytuple.count(10)"
      ]
    },
    {
      "cell_type": "code",
      "source": [
        "mytuple=(10,20,30,\"abc\",10)\n",
        "mytuple.index(\"abc\")"
      ],
      "metadata": {
        "colab": {
          "base_uri": "https://localhost:8080/"
        },
        "id": "p07xZhJ_LzfA",
        "outputId": "65026642-c4ac-45cb-fb12-bd6ddd890c32"
      },
      "execution_count": null,
      "outputs": [
        {
          "output_type": "execute_result",
          "data": {
            "text/plain": [
              "3"
            ]
          },
          "metadata": {},
          "execution_count": 4
        }
      ]
    },
    {
      "cell_type": "code",
      "source": [
        "mydictionary={10:\"aman\",11:\"aditya\"}\n",
        "print(mydictionary[11])\n"
      ],
      "metadata": {
        "colab": {
          "base_uri": "https://localhost:8080/"
        },
        "id": "SckXGYgKMJvv",
        "outputId": "4da48354-e7b0-4371-99ee-642046c0d5b7"
      },
      "execution_count": null,
      "outputs": [
        {
          "output_type": "stream",
          "name": "stdout",
          "text": [
            "aditya\n"
          ]
        }
      ]
    },
    {
      "cell_type": "code",
      "source": [
        "mydictionary={10:\"aman\",11:\"aditya\"}\n",
        "mydictionary[12]=\"naina\"\n",
        "mydictionary[10]=\"ujjwal\"\n",
        "print(mydictionary)\n"
      ],
      "metadata": {
        "colab": {
          "base_uri": "https://localhost:8080/"
        },
        "id": "-5rnxMIjPddo",
        "outputId": "f8e8b4b2-8040-42ca-c201-7890966e45b5"
      },
      "execution_count": null,
      "outputs": [
        {
          "output_type": "stream",
          "name": "stdout",
          "text": [
            "{10: 'ujjwal', 11: 'aditya', 12: 'naina'}\n"
          ]
        }
      ]
    },
    {
      "cell_type": "code",
      "source": [
        "mydictionary={10:\"aman\",11:\"aditya\"}\n",
        "mydictionary[12]=\"naina\"\n",
        "mydictionary[10]=\"ujjwal\"\n",
        "out=mydictionary.pop(11)\n",
        "print(out)"
      ],
      "metadata": {
        "colab": {
          "base_uri": "https://localhost:8080/"
        },
        "id": "A4qEM46GQwOC",
        "outputId": "a51f546c-0c0d-4188-a825-501f0eefe2c4"
      },
      "execution_count": null,
      "outputs": [
        {
          "output_type": "stream",
          "name": "stdout",
          "text": [
            "aditya\n"
          ]
        }
      ]
    },
    {
      "cell_type": "code",
      "source": [
        "mydictionary={10:\"aman\",11:\"aditya\"}\n",
        "mydictionary.update({10:\"naina\",\"salary\":5000})\n",
        "print(mydictionary)"
      ],
      "metadata": {
        "colab": {
          "base_uri": "https://localhost:8080/"
        },
        "id": "5FeJC5AcQ_Tx",
        "outputId": "868a1895-0302-44e0-f7c6-73da6c0349a9"
      },
      "execution_count": null,
      "outputs": [
        {
          "output_type": "stream",
          "name": "stdout",
          "text": [
            "{10: 'naina', 11: 'aditya', 'salary': 5000}\n"
          ]
        }
      ]
    },
    {
      "cell_type": "code",
      "source": [
        "mydictionary={10:\"aman\",11:\"aditya\"}\n",
        "print(mydictionary.keys())"
      ],
      "metadata": {
        "colab": {
          "base_uri": "https://localhost:8080/"
        },
        "id": "n-KahnzxSb0O",
        "outputId": "c6db28cd-6ba2-4fea-b024-551b8565fe4f"
      },
      "execution_count": null,
      "outputs": [
        {
          "output_type": "stream",
          "name": "stdout",
          "text": [
            "dict_keys([10, 11])\n"
          ]
        }
      ]
    },
    {
      "cell_type": "code",
      "source": [
        "mydictionary={10:\"aman\",11:\"aditya\"}\n",
        "for i in  mydictionary:\n",
        "  print(i,mydictionary[i])"
      ],
      "metadata": {
        "colab": {
          "base_uri": "https://localhost:8080/"
        },
        "id": "mxdCbHbiS5Vb",
        "outputId": "e5dff0e9-822d-4c1a-cad9-371fd3012a9f"
      },
      "execution_count": null,
      "outputs": [
        {
          "output_type": "stream",
          "name": "stdout",
          "text": [
            "10 aman\n",
            "11 aditya\n"
          ]
        }
      ]
    },
    {
      "cell_type": "code",
      "source": [
        "mydictionary={10:\"aman\",11:\"aditya\"}\n",
        "for i in  mydictionary.keys():\n",
        "  print(i,mydictionary[i])"
      ],
      "metadata": {
        "colab": {
          "base_uri": "https://localhost:8080/"
        },
        "id": "DplK59CQTG7G",
        "outputId": "91a15b88-787c-4eae-c4c4-e2d2739d47f3"
      },
      "execution_count": null,
      "outputs": [
        {
          "output_type": "stream",
          "name": "stdout",
          "text": [
            "10 aman\n",
            "11 aditya\n"
          ]
        }
      ]
    },
    {
      "cell_type": "code",
      "source": [
        "mydictionary={10:\"aman\",11:\"aditya\"}\n",
        "for i in  mydictionary.values():\n",
        "  print(i)"
      ],
      "metadata": {
        "colab": {
          "base_uri": "https://localhost:8080/"
        },
        "id": "lg_IzzybTOPh",
        "outputId": "557ecb1a-04fd-4b8f-a129-a6e0e2229f3b"
      },
      "execution_count": null,
      "outputs": [
        {
          "output_type": "stream",
          "name": "stdout",
          "text": [
            "aman\n",
            "aditya\n"
          ]
        }
      ]
    },
    {
      "cell_type": "code",
      "source": [
        "mydictionary={10:\"aman\",11:\"aditya\"}\n",
        "for i in  mydictionary.items():\n",
        "  print(i)"
      ],
      "metadata": {
        "colab": {
          "base_uri": "https://localhost:8080/"
        },
        "id": "WA5MmH5NUjyD",
        "outputId": "53630b29-9460-4326-c30f-c28f701a8978"
      },
      "execution_count": null,
      "outputs": [
        {
          "output_type": "stream",
          "name": "stdout",
          "text": [
            "(10, 'aman')\n",
            "(11, 'aditya')\n"
          ]
        }
      ]
    },
    {
      "cell_type": "code",
      "source": [
        "s=\"hello\"\n",
        "count=0\n",
        "mydictionary={}\n",
        "for i in s:\n",
        "  count+=1\n",
        "mydictionary[\"total\"]=count\n",
        "print(mydictionary)"
      ],
      "metadata": {
        "colab": {
          "base_uri": "https://localhost:8080/"
        },
        "id": "-1ycxSR6UyZq",
        "outputId": "4b007e51-44f2-4513-d59d-f486363d6bab"
      },
      "execution_count": null,
      "outputs": [
        {
          "output_type": "stream",
          "name": "stdout",
          "text": [
            "{'total': 5}\n"
          ]
        }
      ]
    },
    {
      "cell_type": "code",
      "source": [
        "s=\"hello\"\n",
        "count=0\n",
        "mydictionary={\"total\":0}\n",
        "for i in s:\n",
        " mydictionary[\"total\"]=mydictionary[\"total\"]+1\n",
        "print(mydictionary)"
      ],
      "metadata": {
        "colab": {
          "base_uri": "https://localhost:8080/"
        },
        "id": "JXM5SkhvWbDM",
        "outputId": "20dfbf4b-a6f6-4dba-e8b3-94f49bfc3ea6"
      },
      "execution_count": null,
      "outputs": [
        {
          "output_type": "stream",
          "name": "stdout",
          "text": [
            "{'total': 5}\n"
          ]
        }
      ]
    },
    {
      "cell_type": "code",
      "source": [
        "s=\"helloasdf6123\"\n",
        "\n",
        "mydictionary={\"vowel\":0}\n",
        "for i in s:\n",
        "  if i in \"aeiou\":\n",
        "    mydictionary[\"vowel\"]+=1\n",
        "print(mydictionary)"
      ],
      "metadata": {
        "colab": {
          "base_uri": "https://localhost:8080/"
        },
        "id": "Hw3LPU41X4-g",
        "outputId": "5b69c6de-ddb1-4549-9640-f3bcd724f44b"
      },
      "execution_count": null,
      "outputs": [
        {
          "output_type": "stream",
          "name": "stdout",
          "text": [
            "{'vowel': 3}\n"
          ]
        }
      ]
    },
    {
      "cell_type": "code",
      "source": [
        "str=\"heaeioccddkckjdkllo\"\n",
        "mydict={\"total\":0}\n",
        "for i in str:\n",
        "    if i in \"aeiou\":\n",
        "        mydict[\"total\"]+=1\n",
        "print(mydict)"
      ],
      "metadata": {
        "colab": {
          "base_uri": "https://localhost:8080/"
        },
        "id": "K_h5B5fjZFkX",
        "outputId": "071feb54-d178-4035-b7dc-40330aabde38"
      },
      "execution_count": null,
      "outputs": [
        {
          "output_type": "stream",
          "name": "stdout",
          "text": [
            "{'total': 6}\n"
          ]
        }
      ]
    },
    {
      "cell_type": "code",
      "source": [
        "s=\"heyvit\"\n",
        "mydict={}\n",
        "for i in range(0,len(s)):\n",
        "    mydict[str[i]]=1\n",
        "\n",
        "print(mydict)"
      ],
      "metadata": {
        "colab": {
          "base_uri": "https://localhost:8080/"
        },
        "id": "nIQaex48ZgO3",
        "outputId": "3824ec5e-8d10-4268-d92c-2689e0ee637f"
      },
      "execution_count": null,
      "outputs": [
        {
          "output_type": "stream",
          "name": "stdout",
          "text": [
            "{'h': 1, 'e': 1, 'a': 1, 'i': 1, 'o': 1}\n"
          ]
        }
      ]
    },
    {
      "cell_type": "code",
      "source": [
        "x=[1,2,2,3,4,4,5]\n",
        "for i in range (0,len(x)):\n",
        "  for j in range(i+1,len(x)):\n",
        "    if(x[i]==x[j]):\n",
        "     x.pop(j)\n",
        "     break\n",
        "\n",
        "  print(\"duplicates\",x[i])\n"
      ],
      "metadata": {
        "id": "QPjNx9w9c7tY",
        "outputId": "81ba304a-217f-48b1-9c21-67e823455646",
        "colab": {
          "base_uri": "https://localhost:8080/",
          "height": 263
        }
      },
      "execution_count": null,
      "outputs": [
        {
          "output_type": "stream",
          "name": "stdout",
          "text": [
            "duplicates 1\n",
            "duplicates 2\n",
            "duplicates 3\n",
            "duplicates 4\n",
            "duplicates 5\n"
          ]
        },
        {
          "output_type": "error",
          "ename": "IndexError",
          "evalue": "list index out of range",
          "traceback": [
            "\u001b[0;31m---------------------------------------------------------------------------\u001b[0m",
            "\u001b[0;31mIndexError\u001b[0m                                Traceback (most recent call last)",
            "\u001b[0;32m<ipython-input-46-0ff4b967908f>\u001b[0m in \u001b[0;36m<cell line: 0>\u001b[0;34m()\u001b[0m\n\u001b[1;32m      6\u001b[0m      \u001b[0;32mbreak\u001b[0m\u001b[0;34m\u001b[0m\u001b[0;34m\u001b[0m\u001b[0m\n\u001b[1;32m      7\u001b[0m \u001b[0;34m\u001b[0m\u001b[0m\n\u001b[0;32m----> 8\u001b[0;31m   \u001b[0mprint\u001b[0m\u001b[0;34m(\u001b[0m\u001b[0;34m\"duplicates\"\u001b[0m\u001b[0;34m,\u001b[0m\u001b[0mx\u001b[0m\u001b[0;34m[\u001b[0m\u001b[0mi\u001b[0m\u001b[0;34m]\u001b[0m\u001b[0;34m)\u001b[0m\u001b[0;34m\u001b[0m\u001b[0;34m\u001b[0m\u001b[0m\n\u001b[0m",
            "\u001b[0;31mIndexError\u001b[0m: list index out of range"
          ]
        }
      ]
    },
    {
      "cell_type": "code",
      "source": [
        "s = \"regex software\"\n",
        "vowels = 'aeiou'\n",
        "mydict = {}\n",
        "\n",
        "for char in s:\n",
        "    if char in vowels:\n",
        "        if char in mydict:\n",
        "            mydict[char] += 1\n",
        "        else:\n",
        "            mydict[char] = 1\n",
        "\n",
        "print(mydict)\n"
      ],
      "metadata": {
        "colab": {
          "base_uri": "https://localhost:8080/"
        },
        "id": "5IWcCC9w_ror",
        "outputId": "441f3056-10e4-4793-830c-cc0e5bf5a6a4"
      },
      "execution_count": null,
      "outputs": [
        {
          "output_type": "stream",
          "name": "stdout",
          "text": [
            "{'e': 3, 'o': 1, 'a': 1}\n"
          ]
        }
      ]
    },
    {
      "cell_type": "code",
      "source": [
        "[i+5 for i in (10,20,30)]"
      ],
      "metadata": {
        "colab": {
          "base_uri": "https://localhost:8080/"
        },
        "id": "Tay37--QU8-f",
        "outputId": "e2e2efda-76e3-4ab1-bd08-17f1dc517f07"
      },
      "execution_count": 1,
      "outputs": [
        {
          "output_type": "execute_result",
          "data": {
            "text/plain": [
              "[15, 25, 35]"
            ]
          },
          "metadata": {},
          "execution_count": 1
        }
      ]
    },
    {
      "cell_type": "code",
      "source": [
        "myset={1,2,3,1,1,1,\"def\",555,7}\n",
        "myset.add(80)\n",
        "myset.discard(1191)\n",
        "print(myset)"
      ],
      "metadata": {
        "colab": {
          "base_uri": "https://localhost:8080/"
        },
        "id": "hQucdEO1e1ck",
        "outputId": "7a1f6a03-f342-4fb3-88a6-5cd45e5d8cd8"
      },
      "execution_count": 3,
      "outputs": [
        {
          "output_type": "stream",
          "name": "stdout",
          "text": [
            "{'def', 1, 2, 3, 80, 7, 555}\n"
          ]
        }
      ]
    },
    {
      "cell_type": "code",
      "source": [],
      "metadata": {
        "id": "GgdVRT7XkDik"
      },
      "execution_count": null,
      "outputs": []
    }
  ]
}