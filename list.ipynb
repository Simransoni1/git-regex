{
  "nbformat": 4,
  "nbformat_minor": 0,
  "metadata": {
    "colab": {
      "provenance": [],
      "authorship_tag": "ABX9TyOy588IFNcxUHLBxjWyYJNO",
      "include_colab_link": true
    },
    "kernelspec": {
      "name": "python3",
      "display_name": "Python 3"
    },
    "language_info": {
      "name": "python"
    }
  },
  "cells": [
    {
      "cell_type": "markdown",
      "metadata": {
        "id": "view-in-github",
        "colab_type": "text"
      },
      "source": [
        "<a href=\"https://colab.research.google.com/github/Simransoni1/git-regex/blob/main/list.ipynb\" target=\"_parent\"><img src=\"https://colab.research.google.com/assets/colab-badge.svg\" alt=\"Open In Colab\"/></a>"
      ]
    },
    {
      "cell_type": "code",
      "execution_count": null,
      "metadata": {
        "colab": {
          "base_uri": "https://localhost:8080/"
        },
        "id": "jRoaPJ7cex7Q",
        "outputId": "05496cc4-1d5f-418f-df3e-317b44b0c6ae"
      },
      "outputs": [
        {
          "output_type": "stream",
          "name": "stdout",
          "text": [
            "19\n",
            "3\n",
            "5\n"
          ]
        }
      ],
      "source": [
        "\n",
        "mylist=[10, 20, 30, 40, 19, 4, 3, 5, 2]\n",
        "for i in range(0, 9):\n",
        "  if(mylist[i]%2!=0):\n",
        "    print(mylist[i])"
      ]
    },
    {
      "cell_type": "code",
      "source": [
        "mylist=[10, 20, 301,\"a\", 40, 19, 4,2,\"b\"]\n",
        "max_num=mylist[1]\n",
        "for i in range(1,len(mylist)):\n",
        "  if(mylist[i]>max_num):\n",
        "    max=mylist[i]\n",
        "  print(mylist[i])"
      ],
      "metadata": {
        "colab": {
          "base_uri": "https://localhost:8080/",
          "height": 245
        },
        "id": "HhvFw8fCffxR",
        "outputId": "1c98c3d0-7068-4e73-c385-e13318be2e67"
      },
      "execution_count": null,
      "outputs": [
        {
          "output_type": "stream",
          "name": "stdout",
          "text": [
            "20\n",
            "301\n"
          ]
        },
        {
          "output_type": "error",
          "ename": "TypeError",
          "evalue": "'>' not supported between instances of 'str' and 'int'",
          "traceback": [
            "\u001b[0;31m---------------------------------------------------------------------------\u001b[0m",
            "\u001b[0;31mTypeError\u001b[0m                                 Traceback (most recent call last)",
            "\u001b[0;32m<ipython-input-9-d6d72d4313a0>\u001b[0m in \u001b[0;36m<cell line: 0>\u001b[0;34m()\u001b[0m\n\u001b[1;32m      2\u001b[0m \u001b[0mmax_num\u001b[0m\u001b[0;34m=\u001b[0m\u001b[0mmylist\u001b[0m\u001b[0;34m[\u001b[0m\u001b[0;36m1\u001b[0m\u001b[0;34m]\u001b[0m\u001b[0;34m\u001b[0m\u001b[0;34m\u001b[0m\u001b[0m\n\u001b[1;32m      3\u001b[0m \u001b[0;32mfor\u001b[0m \u001b[0mi\u001b[0m \u001b[0;32min\u001b[0m \u001b[0mrange\u001b[0m\u001b[0;34m(\u001b[0m\u001b[0;36m1\u001b[0m\u001b[0;34m,\u001b[0m\u001b[0mlen\u001b[0m\u001b[0;34m(\u001b[0m\u001b[0mmylist\u001b[0m\u001b[0;34m)\u001b[0m\u001b[0;34m)\u001b[0m\u001b[0;34m:\u001b[0m\u001b[0;34m\u001b[0m\u001b[0;34m\u001b[0m\u001b[0m\n\u001b[0;32m----> 4\u001b[0;31m   \u001b[0;32mif\u001b[0m\u001b[0;34m(\u001b[0m\u001b[0mmylist\u001b[0m\u001b[0;34m[\u001b[0m\u001b[0mi\u001b[0m\u001b[0;34m]\u001b[0m\u001b[0;34m>\u001b[0m\u001b[0mmax_num\u001b[0m\u001b[0;34m)\u001b[0m\u001b[0;34m:\u001b[0m\u001b[0;34m\u001b[0m\u001b[0;34m\u001b[0m\u001b[0m\n\u001b[0m\u001b[1;32m      5\u001b[0m     \u001b[0mmax\u001b[0m\u001b[0;34m=\u001b[0m\u001b[0mmylist\u001b[0m\u001b[0;34m[\u001b[0m\u001b[0mi\u001b[0m\u001b[0;34m]\u001b[0m\u001b[0;34m\u001b[0m\u001b[0;34m\u001b[0m\u001b[0m\n\u001b[1;32m      6\u001b[0m   \u001b[0mprint\u001b[0m\u001b[0;34m(\u001b[0m\u001b[0mmylist\u001b[0m\u001b[0;34m[\u001b[0m\u001b[0mi\u001b[0m\u001b[0;34m]\u001b[0m\u001b[0;34m)\u001b[0m\u001b[0;34m\u001b[0m\u001b[0;34m\u001b[0m\u001b[0m\n",
            "\u001b[0;31mTypeError\u001b[0m: '>' not supported between instances of 'str' and 'int'"
          ]
        }
      ]
    },
    {
      "cell_type": "code",
      "source": [
        "mylist=[10, 20, 301,\"a\", 40, 19, 4,2,\"b\"]\n",
        "for i in range(1,len(mylist)):\n",
        "  if(type(mylist[i])==int and (mylist[i]>40)):\n",
        "\n",
        "   print(mylist[i])"
      ],
      "metadata": {
        "colab": {
          "base_uri": "https://localhost:8080/"
        },
        "id": "NYBJNiF7jcGA",
        "outputId": "898ca50a-afcb-48ad-ea3e-b0702dcca056"
      },
      "execution_count": null,
      "outputs": [
        {
          "output_type": "stream",
          "name": "stdout",
          "text": [
            "301\n"
          ]
        }
      ]
    },
    {
      "cell_type": "code",
      "source": [
        "x=[40, 50, -20, 60, 60, -20, -20]\n",
        "for i in range(0,len(x)):\n",
        "  for j in range(i+1,len(x)):\n",
        "\n",
        "   if(x[i]==x[j]):\n",
        "    print(\"duplicates=\",x[i])"
      ],
      "metadata": {
        "id": "F65RvrxINBon",
        "colab": {
          "base_uri": "https://localhost:8080/"
        },
        "outputId": "ce23774e-df54-4745-f8e3-6c9d475acf86"
      },
      "execution_count": null,
      "outputs": [
        {
          "output_type": "stream",
          "name": "stdout",
          "text": [
            "duplicates= -20\n",
            "duplicates= -20\n",
            "duplicates= 60\n",
            "duplicates= -20\n"
          ]
        }
      ]
    },
    {
      "cell_type": "code",
      "source": [
        "x=[-7,-1,-7,1,8,8]\n",
        "for i in range(0,len(x)):\n",
        "  for j in range(i+1,len(x)):\n",
        "\n",
        "   if(x[i]==x[j]):\n",
        "    print(\"duplicates=\",x[i])"
      ],
      "metadata": {
        "colab": {
          "base_uri": "https://localhost:8080/"
        },
        "id": "M0cJ9uV9OaYZ",
        "outputId": "149ca0ed-2fb4-42a1-e1be-a62a704fa0dd"
      },
      "execution_count": null,
      "outputs": [
        {
          "output_type": "stream",
          "name": "stdout",
          "text": [
            "duplicates= -7\n",
            "duplicates= 8\n"
          ]
        }
      ]
    },
    {
      "cell_type": "code",
      "source": [
        "mylist=[10,20,301,40,19,4,2]\n",
        "sum=0\n",
        "for i in range(0,len(mylist)):\n",
        "  sum+=mylist[i]\n",
        "  print(sum)"
      ],
      "metadata": {
        "colab": {
          "base_uri": "https://localhost:8080/"
        },
        "id": "HlOElzBRliNl",
        "outputId": "98beab6c-2a2e-4434-cc97-22a8550e9bd6"
      },
      "execution_count": null,
      "outputs": [
        {
          "output_type": "stream",
          "name": "stdout",
          "text": [
            "10\n",
            "30\n",
            "331\n",
            "371\n",
            "390\n",
            "394\n",
            "396\n"
          ]
        }
      ]
    },
    {
      "cell_type": "code",
      "source": [
        "#sum of two problem\n",
        "mylist=[0,1,2,5,7,11,14]\n",
        "target=9\n",
        "for i in range(0,len(mylist)):\n",
        "\n",
        "  for j in range(i+1,len(mylist)):\n",
        "    if(mylist[i]+mylist[j]==9):\n",
        "     print(\"two values\",mylist[i],mylist[j])"
      ],
      "metadata": {
        "colab": {
          "base_uri": "https://localhost:8080/"
        },
        "id": "j_ZeKkrcm2r-",
        "outputId": "2919ce43-4d2f-4881-fa65-6497981d0b4c"
      },
      "execution_count": null,
      "outputs": [
        {
          "output_type": "stream",
          "name": "stdout",
          "text": [
            "two values 2 7\n"
          ]
        }
      ]
    },
    {
      "cell_type": "code",
      "source": [
        "s=\"()\"\n",
        "x=None\n",
        "for i in range(0,len(s)):\n",
        "  char=s[i]\n",
        "  if (char==\"(\" or char==\"[\" or char==\"{\"):\n",
        "    x=char\n",
        "    print(\"open=\",char,x)\n",
        "  else:\n",
        "    print(\"close=\",char,x)"
      ],
      "metadata": {
        "colab": {
          "base_uri": "https://localhost:8080/"
        },
        "id": "p5UkESTWTvrM",
        "outputId": "7b858942-0b46-42c0-f644-a743b8015094"
      },
      "execution_count": null,
      "outputs": [
        {
          "output_type": "stream",
          "name": "stdout",
          "text": [
            "open= ( (\n",
            "close= ) (\n"
          ]
        }
      ]
    },
    {
      "cell_type": "code",
      "source": [
        "s=\"[)\"\n",
        "x=None\n",
        "for i in range(0,len(s)):\n",
        "  char=s[i]\n",
        "  if (char==\"(\" or char==\"[\" or char==\"{\"):\n",
        "    x=char\n",
        "    print(\"open=\",char,x)\n",
        "  else:\n",
        "    if(char==\")\" and  \"(\"==x):\n",
        "      print(\"valid\",char,x)\n",
        "    else:\n",
        "      print(\"invalid\",char,x)"
      ],
      "metadata": {
        "colab": {
          "base_uri": "https://localhost:8080/"
        },
        "id": "9G6yl6ysDC6g",
        "outputId": "64b6f33d-ce02-4f2d-b043-1745c20a9e89"
      },
      "execution_count": null,
      "outputs": [
        {
          "output_type": "stream",
          "name": "stdout",
          "text": [
            "open= [ [\n",
            "invalid ) [\n"
          ]
        }
      ]
    },
    {
      "cell_type": "code",
      "source": [
        "s=\"[]\"\n",
        "x=None\n",
        "for i in range(0,len(s)):\n",
        "  char=s[i]\n",
        "  if (char==\"(\" or char==\"[\" or char==\"{\"):\n",
        "    x=char\n",
        "    print(\"open=\",char,x)\n",
        "  else:\n",
        "    if(char==\")\" and  \"(\"==x or char==\"]\" and \"[\"==x):\n",
        "      print(\"valid\",char,x)\n",
        "    else:\n",
        "      print(\"invalid\",char,x)"
      ],
      "metadata": {
        "colab": {
          "base_uri": "https://localhost:8080/"
        },
        "id": "pBOiTd83Ioc-",
        "outputId": "5e698dca-e8d6-4f3e-d1fa-fc3650fbdea7"
      },
      "execution_count": null,
      "outputs": [
        {
          "output_type": "stream",
          "name": "stdout",
          "text": [
            "open= [ [\n",
            "valid ] [\n"
          ]
        }
      ]
    },
    {
      "cell_type": "code",
      "source": [
        "s=\"{}\"\n",
        "x=None\n",
        "for i in range(0,len(s)):\n",
        "  char=s[i]\n",
        "  if (char==\"(\" or char==\"[\" or char==\"{\"):\n",
        "    x=char\n",
        "    print(\"open=\",char,x)\n",
        "  else:\n",
        "    if(char==\")\" and  \"(\"==x or char==\"]\" and \"[\"==x and char==\"}\" or \"{\"==x):\n",
        "      print(\"valid\",char,x)\n",
        "    else:\n",
        "      print(\"invalid\",char,x)"
      ],
      "metadata": {
        "colab": {
          "base_uri": "https://localhost:8080/"
        },
        "id": "4_MkBzanI84z",
        "outputId": "958400ba-66b0-4647-af4f-fdd6850ed80e"
      },
      "execution_count": null,
      "outputs": [
        {
          "output_type": "stream",
          "name": "stdout",
          "text": [
            "open= { {\n",
            "valid } {\n"
          ]
        }
      ]
    },
    {
      "cell_type": "code",
      "source": [
        "s=\"[(]})]\"\n",
        "x=[]\n",
        "a=0\n",
        "for i in range(0,len(s)):\n",
        "  char=s[i]\n",
        "  if (char==\"(\" or char==\"[\" or char==\"{\"):\n",
        "    x.append(char)\n",
        "\n",
        "  else:\n",
        "    if(char==\")\" and  \"(\"==x[-1] or char==\"]\" and \"[\"==x[-1] and char==\"}\" or \"{\"==x[-1]):\n",
        "      a=1\n",
        "    else:\n",
        "      a=0\n",
        "      x.pop()\n",
        "      break\n",
        "if(a==1):\n",
        "  print(\"valid\")\n",
        "else:\n",
        "  print(\"invalid\")"
      ],
      "metadata": {
        "colab": {
          "base_uri": "https://localhost:8080/"
        },
        "id": "jf5OIFbbOoqv",
        "outputId": "52dfe07a-1f3e-4275-97d0-33acc0de2cd8"
      },
      "execution_count": 6,
      "outputs": [
        {
          "output_type": "stream",
          "name": "stdout",
          "text": [
            "invalid\n"
          ]
        }
      ]
    },
    {
      "cell_type": "code",
      "source": [
        "s=\"{}\"\n",
        "#[ (   ]\n",
        "x=[]      #x store open bracket\n",
        "a=0\n",
        "for i in range(0, len(s)):\n",
        "  char=s[i]\n",
        "  if(char==\"(\" or char==\"{\" or char==\"[\"):\n",
        "    x.append(char)\n",
        "  elif(len(x) >0):\n",
        "    if( (char==\")\"  and \"(\"==x[-1]) or ( char==\"]\"  and \"[\"==x[-1])  or ( char==\"}\"  and \"{\"==x[-1]) ):\n",
        "      a=1\n",
        "      x.pop()\n",
        "\n",
        "    else:\n",
        "      a=0\n",
        "      break\n",
        "\n",
        "\n",
        "\n",
        "if(a==1):\n",
        "  print(\"valid\")\n",
        "else:\n",
        "  print(\"invalid\")\n"
      ],
      "metadata": {
        "colab": {
          "base_uri": "https://localhost:8080/"
        },
        "id": "kkTXW7_1yozf",
        "outputId": "9efb4dab-8388-4be5-c659-37463b74f170"
      },
      "execution_count": 7,
      "outputs": [
        {
          "output_type": "stream",
          "name": "stdout",
          "text": [
            "valid\n"
          ]
        }
      ]
    },
    {
      "cell_type": "code",
      "source": [
        "for i in range(1,6):\n",
        "  for j in range(1,7-i):\n",
        "    if(j==1 or i==1 or i+j==6):\n",
        "\n",
        "      print(\"*\",end=\"\")\n",
        "    else:\n",
        "      print(\" \",end=\"\")\n",
        "  print(\" \")\n",
        ""
      ],
      "metadata": {
        "colab": {
          "base_uri": "https://localhost:8080/"
        },
        "id": "wD4W-4AF3B2c",
        "outputId": "3736d948-edd5-4950-e31d-463240a7ae4e"
      },
      "execution_count": 32,
      "outputs": [
        {
          "output_type": "stream",
          "name": "stdout",
          "text": [
            "***** \n",
            "*  * \n",
            "* * \n",
            "** \n",
            "* \n"
          ]
        }
      ]
    },
    {
      "cell_type": "code",
      "source": [
        "for i in range(1,5):\n",
        "  for j in range(i,4):\n",
        "   print(\"-\",end=\" \")\n",
        "\n",
        "  for k in range(1,i+1):\n",
        "    if(k==1 or i==4 or i==k):\n",
        "     print(k,end=\"\")\n",
        "    else:\n",
        "      print(\" \",end=\"\")\n",
        "  print(\"\")"
      ],
      "metadata": {
        "colab": {
          "base_uri": "https://localhost:8080/"
        },
        "id": "Ef4J3yvo6IGz",
        "outputId": "7122e979-b4d1-4123-b28b-2ab7bee45f48"
      },
      "execution_count": 52,
      "outputs": [
        {
          "output_type": "stream",
          "name": "stdout",
          "text": [
            "- - - 1\n",
            "- - 12\n",
            "- 1 3\n",
            "1234\n"
          ]
        }
      ]
    }
  ]
}