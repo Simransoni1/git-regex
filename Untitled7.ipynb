{
  "nbformat": 4,
  "nbformat_minor": 0,
  "metadata": {
    "colab": {
      "provenance": [],
      "authorship_tag": "ABX9TyNrsvSN0nulANl7sFINw4rE",
      "include_colab_link": true
    },
    "kernelspec": {
      "name": "python3",
      "display_name": "Python 3"
    },
    "language_info": {
      "name": "python"
    }
  },
  "cells": [
    {
      "cell_type": "markdown",
      "metadata": {
        "id": "view-in-github",
        "colab_type": "text"
      },
      "source": [
        "<a href=\"https://colab.research.google.com/github/Simransoni1/git-regex/blob/main/Untitled7.ipynb\" target=\"_parent\"><img src=\"https://colab.research.google.com/assets/colab-badge.svg\" alt=\"Open In Colab\"/></a>"
      ]
    },
    {
      "cell_type": "code",
      "execution_count": null,
      "metadata": {
        "colab": {
          "base_uri": "https://localhost:8080/"
        },
        "id": "1BufQdoqTina",
        "outputId": "e65a15cf-98fb-42fb-e344-9b19826d2fed"
      },
      "outputs": [
        {
          "output_type": "stream",
          "name": "stdout",
          "text": [
            "enter a no 10\n",
            "1\n",
            "2\n",
            "3\n",
            "4\n",
            "5\n",
            "6\n",
            "7\n",
            "8\n",
            "9\n"
          ]
        }
      ],
      "source": [
        "n=int(input(\"enter a no \"))\n",
        "\n",
        "for i in range(1,n):\n",
        "  n=n+1\n",
        "\n",
        "  print(i)"
      ]
    },
    {
      "cell_type": "code",
      "source": [
        "n=int(input(\"enter a no \"))\n",
        "\n",
        "for i in range(n,0,-1):\n",
        "\n",
        "\n",
        "  print(i)"
      ],
      "metadata": {
        "colab": {
          "base_uri": "https://localhost:8080/"
        },
        "id": "6_3G3PEAZ9zJ",
        "outputId": "22501273-6d85-481c-92ee-f8ab17b7beb6"
      },
      "execution_count": null,
      "outputs": [
        {
          "output_type": "stream",
          "name": "stdout",
          "text": [
            "enter a no 10\n",
            "10\n",
            "9\n",
            "8\n",
            "7\n",
            "6\n",
            "5\n",
            "4\n",
            "3\n",
            "2\n",
            "1\n"
          ]
        }
      ]
    },
    {
      "cell_type": "code",
      "source": [
        "x=input(\"enter a char \")\n",
        "x=ord(x)\n",
        "for ch in range(ord('a'),ord('z')):\n",
        "\n",
        "  x+=1\n",
        "  print(chr(x))"
      ],
      "metadata": {
        "colab": {
          "base_uri": "https://localhost:8080/"
        },
        "id": "UkyFVAzla-il",
        "outputId": "e3418b20-3827-4e50-a9e3-c0fbb8afc203"
      },
      "execution_count": null,
      "outputs": [
        {
          "output_type": "stream",
          "name": "stdout",
          "text": [
            "enter a char a\n",
            "b\n",
            "c\n",
            "d\n",
            "e\n",
            "f\n",
            "g\n",
            "h\n",
            "i\n",
            "j\n",
            "k\n",
            "l\n",
            "m\n",
            "n\n",
            "o\n",
            "p\n",
            "q\n",
            "r\n",
            "s\n",
            "t\n",
            "u\n",
            "v\n",
            "w\n",
            "x\n",
            "y\n",
            "z\n"
          ]
        }
      ]
    },
    {
      "cell_type": "code",
      "source": [
        "n=int(input(\"enter a no \"))\n",
        "for i in range (1,101):\n",
        "  if(i%2==0):\n",
        "    print(i)"
      ],
      "metadata": {
        "colab": {
          "base_uri": "https://localhost:8080/"
        },
        "id": "oGUEGkFmeN3H",
        "outputId": "1a967237-805b-4e27-e824-00d10fe04046"
      },
      "execution_count": null,
      "outputs": [
        {
          "output_type": "stream",
          "name": "stdout",
          "text": [
            "enter a no 1\n",
            "2\n",
            "4\n",
            "6\n",
            "8\n",
            "10\n",
            "12\n",
            "14\n",
            "16\n",
            "18\n",
            "20\n",
            "22\n",
            "24\n",
            "26\n",
            "28\n",
            "30\n",
            "32\n",
            "34\n",
            "36\n",
            "38\n",
            "40\n",
            "42\n",
            "44\n",
            "46\n",
            "48\n",
            "50\n",
            "52\n",
            "54\n",
            "56\n",
            "58\n",
            "60\n",
            "62\n",
            "64\n",
            "66\n",
            "68\n",
            "70\n",
            "72\n",
            "74\n",
            "76\n",
            "78\n",
            "80\n",
            "82\n",
            "84\n",
            "86\n",
            "88\n",
            "90\n",
            "92\n",
            "94\n",
            "96\n",
            "98\n",
            "100\n"
          ]
        }
      ]
    },
    {
      "cell_type": "code",
      "source": [
        "\n",
        "n=int(input(\"enter a no \"))\n",
        "sum=0\n",
        "for i in range (1,n):\n",
        "  if(i%2!=0):\n",
        "    sum=sum+i\n",
        "    print(sum)"
      ],
      "metadata": {
        "colab": {
          "base_uri": "https://localhost:8080/"
        },
        "id": "A45ZmNaAfXZA",
        "outputId": "a46ddace-4488-4b9f-cc57-4cfbc8290aca"
      },
      "execution_count": null,
      "outputs": [
        {
          "output_type": "stream",
          "name": "stdout",
          "text": [
            "enter a no 100\n",
            "1\n",
            "4\n",
            "9\n",
            "16\n",
            "25\n",
            "36\n",
            "49\n",
            "64\n",
            "81\n",
            "100\n",
            "121\n",
            "144\n",
            "169\n",
            "196\n",
            "225\n",
            "256\n",
            "289\n",
            "324\n",
            "361\n",
            "400\n",
            "441\n",
            "484\n",
            "529\n",
            "576\n",
            "625\n",
            "676\n",
            "729\n",
            "784\n",
            "841\n",
            "900\n",
            "961\n",
            "1024\n",
            "1089\n",
            "1156\n",
            "1225\n",
            "1296\n",
            "1369\n",
            "1444\n",
            "1521\n",
            "1600\n",
            "1681\n",
            "1764\n",
            "1849\n",
            "1936\n",
            "2025\n",
            "2116\n",
            "2209\n",
            "2304\n",
            "2401\n",
            "2500\n"
          ]
        }
      ]
    },
    {
      "cell_type": "code",
      "source": [
        "#12 factors of no\n",
        "n=int(input(\"enter a no :\"))\n",
        "\n",
        "for i in range(1,n+1):\n",
        "  if(n%i==0):\n",
        "\n",
        "    print(i)\n",
        "\n",
        "\n"
      ],
      "metadata": {
        "id": "9lSJltXCinuf",
        "colab": {
          "base_uri": "https://localhost:8080/"
        },
        "outputId": "edb57492-68ca-40ba-f352-e56e4d9e17a4"
      },
      "execution_count": null,
      "outputs": [
        {
          "output_type": "stream",
          "name": "stdout",
          "text": [
            "enter a no :10\n",
            "1\n",
            "2\n",
            "5\n",
            "10\n"
          ]
        }
      ]
    },
    {
      "cell_type": "code",
      "source": [
        "#6 quyestion for loop digits count\n",
        "n=int(input(\"enter a no :\"))\n",
        "\n",
        "count=0\n",
        "\n",
        "for i in range (1,n):\n",
        "  n=n//10\n",
        "  count+=1\n",
        "  if(n==0):\n",
        "   break\n",
        "print(count)\n",
        "\n"
      ],
      "metadata": {
        "colab": {
          "base_uri": "https://localhost:8080/"
        },
        "id": "b-o-8F7Pjfdu",
        "outputId": "b17f0ae8-fea5-4491-9af0-9a725962a844"
      },
      "execution_count": null,
      "outputs": [
        {
          "output_type": "stream",
          "name": "stdout",
          "text": [
            "enter a no :1234\n",
            "4\n"
          ]
        }
      ]
    },
    {
      "cell_type": "code",
      "source": [
        "#7 quyestion for loop  sum of digits\n",
        "n=int(input(\"enter a no :\"))\n",
        "\n",
        "sum=0\n",
        "\n",
        "for i in range (1,n):\n",
        "  digit=n%10\n",
        "  sum=sum+digit\n",
        "  n//=10\n",
        "print(sum)"
      ],
      "metadata": {
        "colab": {
          "base_uri": "https://localhost:8080/"
        },
        "id": "U1wuhyRRb79K",
        "outputId": "7d675f96-5d53-479f-8b50-6f650bd15a1d"
      },
      "execution_count": null,
      "outputs": [
        {
          "output_type": "stream",
          "name": "stdout",
          "text": [
            "enter a no :12345\n",
            "15\n"
          ]
        }
      ]
    },
    {
      "cell_type": "code",
      "source": [
        "#8 quyestion for loop  find 1st and last digit of number\n",
        "num=int(input(\"enter a no :\"))\n",
        "last_digit=num%10\n",
        "for i in range (1,num+1):\n",
        "  num= num//10\n",
        "  if num <10:\n",
        "    first_digit = num\n",
        "    break\n",
        "print(first_digit)\n",
        "print(last_digit)\n",
        "\n"
      ],
      "metadata": {
        "colab": {
          "base_uri": "https://localhost:8080/"
        },
        "id": "ms5prP3AfO2e",
        "outputId": "6c3f5189-4e9b-4641-a0a9-79b4cff10481"
      },
      "execution_count": 9,
      "outputs": [
        {
          "output_type": "stream",
          "name": "stdout",
          "text": [
            "enter a no :12345\n",
            "1\n",
            "5\n"
          ]
        }
      ]
    },
    {
      "cell_type": "code",
      "source": [
        "#9 quyestion for loop  find  sum of 1st and last digit of number\n",
        "num=int(input(\"enter a no :\"))\n",
        "sum=0\n",
        "last_digit=num%10\n",
        "for i in range (1,num+1):\n",
        "  num= num//10\n",
        "  if num <10:\n",
        "    first_digit = num\n",
        "    break\n",
        "sum=last_digit+num\n",
        "print(sum)\n"
      ],
      "metadata": {
        "colab": {
          "base_uri": "https://localhost:8080/"
        },
        "id": "cO0Mhz6kjVq2",
        "outputId": "07441555-babb-43d2-d6c8-6b40cea69eec"
      },
      "execution_count": 18,
      "outputs": [
        {
          "output_type": "stream",
          "name": "stdout",
          "text": [
            "enter a no :1234\n",
            "5\n"
          ]
        }
      ]
    },
    {
      "cell_type": "code",
      "source": [
        "#10 quyestion for loop  enter a no and print its reverse\n",
        "num = int(input(\"enter a no :\"))\n",
        "\n",
        "reversed_num = 0  # Initialize variable to store the reversed number\n",
        "\n",
        "for i in range(0,num):\n",
        "    if(num > 0):\n",
        "      digit = num % 10  # Extract the last digit\n",
        "      reversed_num = (reversed_num * 10) + digit  # Add the digit to the reversed number\n",
        "      num //= 10  # Remove the last digit from the original number\n",
        "\n",
        "print(reversed_num)  # Print the rev"
      ],
      "metadata": {
        "colab": {
          "base_uri": "https://localhost:8080/"
        },
        "id": "t-7cxfpgmLCx",
        "outputId": "d55e6e18-5781-4302-b247-6881815180e9"
      },
      "execution_count": 29,
      "outputs": [
        {
          "output_type": "stream",
          "name": "stdout",
          "text": [
            "enter a no :1234\n",
            "4321\n"
          ]
        }
      ]
    },
    {
      "cell_type": "code",
      "source": [
        "#11.Write a program to find the power of a number using for loop.\n"
      ],
      "metadata": {
        "id": "gLNmmb94pXd8"
      },
      "execution_count": null,
      "outputs": []
    },
    {
      "cell_type": "code",
      "source": [
        "#1212.Write a program to find all factors of a number.\n",
        "n=int(input(\"enter a no :\"))\n",
        "\n",
        "for i in range(1,n+1):\n",
        "  if(n%i==0):\n",
        "\n",
        "    print(i)\n",
        "\n",
        "\n"
      ],
      "metadata": {
        "colab": {
          "base_uri": "https://localhost:8080/"
        },
        "id": "tfoe4qyQp2BQ",
        "outputId": "8dea2221-ca40-45ed-dfb5-885d43694a5a"
      },
      "execution_count": 31,
      "outputs": [
        {
          "output_type": "stream",
          "name": "stdout",
          "text": [
            "enter a no :12\n",
            "1\n",
            "2\n",
            "3\n",
            "4\n",
            "6\n",
            "12\n"
          ]
        }
      ]
    },
    {
      "cell_type": "code",
      "source": [
        "#13.Write a program to calculate the factorial of a number.\n",
        "factorial=1\n",
        "num=int(input(\"enter a no :\"))\n",
        "for i in range (1,num+1):\n",
        "  factorial*=i\n",
        "print(factorial)"
      ],
      "metadata": {
        "colab": {
          "base_uri": "https://localhost:8080/"
        },
        "id": "7_yHQWofqFQS",
        "outputId": "0092fb94-4736-45b5-a9d7-e472e85c0e8a"
      },
      "execution_count": 6,
      "outputs": [
        {
          "output_type": "stream",
          "name": "stdout",
          "text": [
            "enter a no :6\n",
            "720\n"
          ]
        }
      ]
    },
    {
      "cell_type": "code",
      "source": [],
      "metadata": {
        "id": "rLphjSbQsVeh"
      },
      "execution_count": null,
      "outputs": []
    }
  ]
}